{
 "cells": [
  {
   "cell_type": "markdown",
   "metadata": {},
   "source": [
    "# <tt>synphot</tt>: Predicting photometric fluxes with an empirical spectrum"
   ]
  },
  {
   "cell_type": "markdown",
   "metadata": {},
   "source": [
    "## Authors\n",
    "Tiffany Jansen, Brett Morris, Pey Lian Lim, & Erik Tollerud"
   ]
  },
  {
   "cell_type": "markdown",
   "metadata": {},
   "source": [
    "## Objectives\n",
    "<ul>\n",
    "    <li>Query data directly from other websites using <code>astropy.coordinates.Skycoord</code>, <code>astroquery.sdss</code>, and <code>tynt</code></li>\n",
    "<li>Download a spectrum and construct a source spectrum object using <code>synphot.SourceSpectrum</code></li>\n",
    "<li>Simulate bandpass throughput with <code>synphot.SpectralElement</code></li>\n",
    "<li>Simulate the photometric observation with <code>synphot.Observation</code></li>\n",
    "<li>Compute the expected fluxes from this observation with <code>synphot</code>'s <code>effstim()</code> function\n",
    "</ul>"
   ]
  },
  {
   "cell_type": "markdown",
   "metadata": {},
   "source": [
    "## Keywords\n",
    "synphot, synthetic photometry, tynt, astropy, astroquery, astronomy"
   ]
  },
  {
   "cell_type": "markdown",
   "metadata": {},
   "source": [
    "## Summary\n",
    "In this tutorial we will:\n",
    "<ol>\n",
    "<li><a href=\"#sdss\">Get the observed spectrum of our target from SDSS</a></li>\n",
    "<li><a href=\"#source_spectrum\">Construct a source spectrum object</a></li>\n",
    "<li><a href=\"#bandpass\">Create the bandpasses of observation</a></li>\n",
    "<li><a href=\"#observe\">Combine the spectrum with the bandpass throughput and \"observe\"</a></li>\n",
    "<li><a href=\"#compare\">Compare simulated flux to observed flux</a></li>\n",
    "</ol>"
   ]
  },
  {
   "cell_type": "code",
   "execution_count": 2,
   "metadata": {
    "collapsed": true
   },
   "outputs": [],
   "source": [
    "%matplotlib inline\n",
    "import matplotlib.pyplot as plt\n",
    "import numpy as np"
   ]
  },
  {
   "cell_type": "markdown",
   "metadata": {},
   "source": [
    "<a id=\"sdss\"></a>\n",
    "### 1. Download an observed spectrum from SDSS"
   ]
  },
  {
   "cell_type": "markdown",
   "metadata": {},
   "source": [
    "In this example we choose the galaxy <a href=\"https://skyserver.sdss.org/dr12/en/tools/explore/Summary.aspx?id=1237662301903192106\" target=\"_blank\">IRAS F15163+4255 NW</a> which has a strong Halpha emission line."
   ]
  },
  {
   "cell_type": "markdown",
   "metadata": {},
   "source": [
    "To get the spectrum, first set the coordinates for the object:"
   ]
  },
  {
   "cell_type": "code",
   "execution_count": 3,
   "metadata": {
    "collapsed": true
   },
   "outputs": [],
   "source": [
    "import astropy.units as u\n",
    "from astropy.coordinates import SkyCoord\n",
    "\n",
    "ra = 229.525575754 * u.degree\n",
    "dec = 42.745853761 * u.degree\n",
    "coords = SkyCoord(ra, dec)"
   ]
  },
  {
   "cell_type": "markdown",
   "metadata": {},
   "source": [
    "Then use <a href=\"https://astroquery.readthedocs.io/en/latest/sdss/sdss.html\">astroquery.sdss</a> to query the spectrum observed by SDSS:"
   ]
  },
  {
   "cell_type": "code",
   "execution_count": 4,
   "metadata": {
    "collapsed": false
   },
   "outputs": [
    {
     "name": "stderr",
     "output_type": "stream",
     "text": [
      "WARNING: AstropyDeprecationWarning: astropy.extern.six will be removed in 4.0, use the six module directly if it is still needed [astropy.extern.six]\n",
      "//anaconda/lib/python3.5/site-packages/astroquery/sdss/__init__.py:29: UserWarning: Experimental: SDSS has not yet been refactored to have its API match the rest of astroquery (but it's nearly there).\n",
      "  warnings.warn(\"Experimental: SDSS has not yet been refactored to have its API \"\n",
      "//anaconda/lib/python3.5/site-packages/astroquery/sdss/core.py:856: VisibleDeprecationWarning: Reading unicode strings without specifying the encoding argument is deprecated. Set the encoding, use None for the system default.\n",
      "  comments='#'))\n"
     ]
    }
   ],
   "source": [
    "from astroquery.sdss import SDSS\n",
    "from synphot import units\n",
    "\n",
    "spectrum_fits = SDSS.get_spectra(coordinates=coords)\n",
    "data = spectrum_fits[0][1].data\n",
    "\n",
    "wavelengths = 10 ** data['loglam'] * u.angstrom\n",
    "flux = data['flux'] * 1e-17 * units.FLAM  # units are given in 10^-17 ergs/s/cm^2/AA"
   ]
  },
  {
   "cell_type": "markdown",
   "metadata": {},
   "source": [
    "<a id=\"source_spectrum\"></a>\n",
    "### 2. Construct a `synphot` source spectrum object from the empirical spectrum"
   ]
  },
  {
   "cell_type": "markdown",
   "metadata": {},
   "source": [
    "Make the source spectrum object with <a href=\"https://synphot.readthedocs.io/en/latest/synphot/spectrum.html#arrays\">SourceSpectrum</a>:"
   ]
  },
  {
   "cell_type": "code",
   "execution_count": null,
   "metadata": {
    "collapsed": false
   },
   "outputs": [
    {
     "data": {
      "image/png": "[encoded data removed]",
      "text/plain": [
       "<Figure size 432x288 with 1 Axes>"
      ]
     },
     "metadata": {},
     "output_type": "display_data"
    }
   ],
   "source": [
    "from synphot.spectrum import SourceSpectrum\n",
    "from synphot.models import Empirical1D\n",
    "\n",
    "spectrum = SourceSpectrum(Empirical1D,\n",
    "                          points=wavelengths, lookup_table=flux)\n",
    "\n",
    "spectrum.plot(flux_unit='FLAM')"
   ]
  },
  {
   "cell_type": "markdown",
   "metadata": {},
   "source": [
    "<a id=\"bandpass\"></a>\n",
    "### 3. Model the bandpasses with `tynt` and `synphot.spectrum`"
   ]
  },
  {
   "cell_type": "markdown",
   "metadata": {},
   "source": [
    "We query the SDSS filter transmission functions from <a href=\"http://svo2.cab.inta-csic.es/theory/fps/index.php?mode=voservice\">SVO</a> using the <a href=\"https://tynt.readthedocs.io/en/latest/index.html\">tynt</a> package. These transmission functions include the effect of the CCD's quantum efficiency on the spectrum."
   ]
  },
  {
   "cell_type": "markdown",
   "metadata": {},
   "source": [
    "To construct a bandpass from an array with `synphot`, use <a href=\"https://synphot.readthedocs.io/en/latest/api/synphot.spectrum.SpectralElement.html#synphot.spectrum\">SpectralElement</a> with the Empirical1D model:"
   ]
  },
  {
   "cell_type": "code",
   "execution_count": null,
   "metadata": {
    "collapsed": false
   },
   "outputs": [],
   "source": [
    "import tynt\n",
    "from synphot.spectrum import SpectralElement\n",
    "\n",
    "sdss_bands = ['u', 'g', 'r', 'i', 'z']\n",
    "\n",
    "f = tynt.FilterGenerator()\n",
    "\n",
    "bandpasses = {}\n",
    "for band in sdss_bands:\n",
    "    filt = f.download_true_transmittance('SLOAN/SDSS.' + band)\n",
    "    bp = SpectralElement(Empirical1D,\n",
    "                         points=filt.wavelength,\n",
    "                         lookup_table=filt.transmittance)\n",
    "    bandpasses[band] = bp\n",
    "\n",
    "    plt.plot(bp.waveset, bp(bp.waveset), label=band)\n",
    "plt.legend(loc='upper right')\n",
    "plt.show()\n"
   ]
  },
  {
   "cell_type": "markdown",
   "metadata": {},
   "source": [
    "You can also construct a bandpass from a file using <tt>synphot</tt>'s <a href=\"https://synphot.readthedocs.io/en/latest/api/synphot.spectrum.SpectralElement.html#synphot.spectrum.SpectralElement.from_file\">SpectralElement.from_file()</a>"
   ]
  },
  {
   "cell_type": "markdown",
   "metadata": {},
   "source": [
    "<a id=\"observe\"></a>\n",
    "### 4. Model the observation with `synphot.observation`"
   ]
  },
  {
   "cell_type": "markdown",
   "metadata": {},
   "source": [
    "To convolve the spectrum with the filters, use <a href=\"https://synphot.readthedocs.io/en/latest/synphot/observation.html\">`synphot.observation`</a>:"
   ]
  },
  {
   "cell_type": "code",
   "execution_count": null,
   "metadata": {
    "collapsed": false
   },
   "outputs": [],
   "source": [
    "from synphot.observation import Observation\n",
    "\n",
    "# zero point flux of sdss system\n",
    "zero_point_star_equiv = u.zero_point_flux(3631.1 * u.Jy)\n",
    "\n",
    "fluxes = {}\n",
    "for band in sdss_bands:\n",
    "    observation = Observation(spectrum, bandpasses[band], force='extrap')\n",
    "    flux = observation.effstim('Jy')\n",
    "    # SDSS uses nanomaggies as a flux unit. For more info, \n",
    "    # see: http://www.sdss3.org/dr8/algorithms/magnitudes.php\n",
    "    fluxes[band] = flux.to(u.nanomaggy, zero_point_star_equiv)"
   ]
  },
  {
   "cell_type": "code",
   "execution_count": null,
   "metadata": {
    "collapsed": false
   },
   "outputs": [],
   "source": [
    "for band in sdss_bands:\n",
    "    print(band + ' =', str(int(fluxes[band].value)) + ' nmgy')"
   ]
  },
  {
   "cell_type": "markdown",
   "metadata": {},
   "source": [
    "<a id=\"compare\"></a>\n",
    "### 5. Compare the u,g,r,i,z empirical fluxes to what we predict with `synphot`"
   ]
  },
  {
   "cell_type": "markdown",
   "metadata": {},
   "source": [
    "Get the fluxes measured by the SDSS fibers by using <a href=\"https://astroquery.readthedocs.io/en/latest/api/astroquery.sdss.SDSSClass.html#astroquery.sdss.SDSSClass.query_crossid\">`astroquery.sdss.query_crossid`</a> and setting the photoObj to \"fiberFlux_band\". For a full list of photoObj fields, <a href=\"https://skyserver.sdss.org/dr12/en/help/browser/browser.aspx?cmd=description+PhotoObj+V#&&history=description+PhotoObj+V\">see here</a>."
   ]
  },
  {
   "cell_type": "code",
   "execution_count": null,
   "metadata": {
    "collapsed": true
   },
   "outputs": [],
   "source": [
    "model_flux = ['fiberFlux_' + band for band in sdss_bands]\n",
    "flux_table = SDSS.query_crossid(coordinates = coords, photoobj_fields=model_flux)\n",
    "sdss_fluxes = {}\n",
    "for band in sdss_bands:\n",
    "    # sdss fluxes are given in units of \"nanomaggies\"\n",
    "    sdss_fluxes[band] = flux_table['fiberFlux_' + band] * u.nanomaggy"
   ]
  },
  {
   "cell_type": "code",
   "execution_count": null,
   "metadata": {
    "collapsed": false
   },
   "outputs": [],
   "source": [
    "sdss_fluxes"
   ]
  },
  {
   "cell_type": "markdown",
   "metadata": {},
   "source": [
    "Compare the `synphot` fluxes to the observed fluxes by plotting on a 1-1 line:"
   ]
  },
  {
   "cell_type": "code",
   "execution_count": null,
   "metadata": {
    "collapsed": false
   },
   "outputs": [],
   "source": [
    "plt.rcParams.update({'font.size': 14})\n",
    "fig = plt.figure(figsize=(9, 7))\n",
    "\n",
    "for band in sdss_bands:\n",
    "    plt.scatter(sdss_fluxes[band], fluxes[band],\n",
    "                s=100, label=band)\n",
    "\n",
    "# one-to-one line\n",
    "fluxrange = np.linspace(0, 550, 10)\n",
    "plt.plot(fluxrange, fluxrange, color='black')\n",
    "plt.plot(fluxrange, fluxrange * 0.9, color='black', ls='--', label='10% error')\n",
    "plt.plot(fluxrange, fluxrange * 1.1, color='black', ls='--')\n",
    "\n",
    "plt.ylabel('synphot flux (nmaggy)', size='14')\n",
    "plt.xlabel('observed flux (nmaggy)', size='14')\n",
    "\n",
    "plt.xlim(0, 550)\n",
    "plt.ylim(0, 550)\n",
    "\n",
    "plt.legend(prop={'size': 18})"
   ]
  },
  {
   "cell_type": "code",
   "execution_count": null,
   "metadata": {
    "collapsed": true
   },
   "outputs": [],
   "source": []
  }
 ],
 "metadata": {
  "anaconda-cloud": {},
  "kernelspec": {
   "display_name": "Python [default]",
   "language": "python",
   "name": "python3"
  },
  "language_info": {
   "codemirror_mode": {
    "name": "ipython",
    "version": 3
   },
   "file_extension": ".py",
   "mimetype": "text/x-python",
   "name": "python",
   "nbconvert_exporter": "python",
   "pygments_lexer": "ipython3",
   "version": "3.5.2"
  }
 },
 "nbformat": 4,
 "nbformat_minor": 2
}
