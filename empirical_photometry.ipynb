{
 "cells": [
  {
   "cell_type": "markdown",
   "metadata": {},
   "source": [
    "# <tt>synphot</tt>: Predicting photometric magnitudes with an empirical spectrum"
   ]
  },
  {
   "cell_type": "markdown",
   "metadata": {},
   "source": [
    "## Authors\n",
    "Tiffany Jansen, Brett Morris, Pey Lian Lim, & Erik Tollerud"
   ]
  },
  {
   "cell_type": "markdown",
   "metadata": {},
   "source": [
    "## Objectives\n",
    "<ul>\n",
    "<li>Query data directly from other websites using `astropy.coordinates.Skycoord`, `astroquery.sdss`, and `tynt`</li>\n",
    "<li>Download a spectrum and construct a source spectrum object using `synphot.SourceSpectrum`</li>\n",
    "<li>Simulate bandpass throughput with `synphot.SpectralElement`</li>\n",
    "<li>Simulate the photometric observation with `synphot.Observation`</li>\n",
    "<li>Compute the expected magnitudes from this observation with `synphot`'s `effstim()` function\n",
    "</ul>"
   ]
  },
  {
   "cell_type": "markdown",
   "metadata": {},
   "source": [
    "## Keywords\n",
    "synphot, synthetic photometry, tynt, astropy, astroquery, astronomy"
   ]
  },
  {
   "cell_type": "markdown",
   "metadata": {},
   "source": [
    "## Summary\n",
    "In this tutorial we will:\n",
    "<ol>\n",
    "<li><a href=\"#phoenix\">Get the observed spectrum of our target from SDSS</a></li>\n",
    "<li><a href=\"#source_spectrum\">Construct a source spectrum object</a></li>\n",
    "<li><a href=\"#bandpass\">Create the bandpasses of observation</a></li>\n",
    "<li><a href=\"#observation\">Combine the spectrum with the bandpass throughput and \"observe\"</a></li>\n",
    "<li><a href=\"#counts\">Compute the magnitudes in each band</a></li>\n",
    "<li><a href=\"#compare\">Compare simulated magnitudes to observed magnitudes</a></li>\n",
    "</ol>"
   ]
  },
  {
   "cell_type": "code",
   "execution_count": 101,
   "metadata": {
    "collapsed": true
   },
   "outputs": [],
   "source": [
    "%matplotlib inline\n",
    "import matplotlib.pyplot as plt\n",
    "import numpy as np"
   ]
  },
  {
   "cell_type": "markdown",
   "metadata": {},
   "source": [
    "### Select an observed spectrum with a strong Halpha emission line from SDSS"
   ]
  },
  {
   "cell_type": "markdown",
   "metadata": {},
   "source": [
    "In this example we choose the galaxy <a href=\"https://skyserver.sdss.org/dr12/en/tools/explore/Summary.aspx?id=1237662301903192106\" target=\"_blank\">IRAS F15163+4255 NW</a>."
   ]
  },
  {
   "cell_type": "markdown",
   "metadata": {},
   "source": [
    "Set the coordinates for the object:"
   ]
  },
  {
   "cell_type": "code",
   "execution_count": 102,
   "metadata": {
    "collapsed": true
   },
   "outputs": [],
   "source": [
    "import astropy.units as u\n",
    "from astropy.coordinates import SkyCoord\n",
    "\n",
    "ra = 229.525575754 * u.degree\n",
    "dec = 42.745853761 * u.degree\n",
    "coords = SkyCoord(ra, dec)"
   ]
  },
  {
   "cell_type": "markdown",
   "metadata": {},
   "source": [
    "Retrieve the observed spectrum from SDSS:"
   ]
  },
  {
   "cell_type": "code",
   "execution_count": 103,
   "metadata": {
    "collapsed": false
   },
   "outputs": [
    {
     "name": "stderr",
     "output_type": "stream",
     "text": [
      "//anaconda/lib/python3.5/site-packages/astroquery/sdss/core.py:856: VisibleDeprecationWarning: Reading unicode strings without specifying the encoding argument is deprecated. Set the encoding, use None for the system default.\n",
      "  comments='#'))\n"
     ]
    }
   ],
   "source": [
    "from astroquery.sdss import SDSS\n",
    "from synphot import units\n",
    "\n",
    "spectrum_fits = SDSS.get_spectra(coordinates=coords)\n",
    "data = spectrum_fits[0][1].data\n",
    "\n",
    "wavelengths = 10 ** data['loglam'] * u.angstrom\n",
    "flux = data['flux'] * 1e-17 * units.FLAM  # units are given in 10^-17 ergs/s/cm^2/AA"
   ]
  },
  {
   "cell_type": "markdown",
   "metadata": {},
   "source": [
    "### Construct a `synphot` source spectrum object from the empirical spectrum:"
   ]
  },
  {
   "cell_type": "markdown",
   "metadata": {},
   "source": [
    "Make the source spectrum object with <a href=\"https://synphot.readthedocs.io/en/latest/synphot/spectrum.html#arrays\">SourceSpectrum</a>:"
   ]
  },
  {
   "cell_type": "code",
   "execution_count": 104,
   "metadata": {
    "collapsed": false
   },
   "outputs": [
    {
     "data": {
      "image/png": "[encoded data removed]",
      "text/plain": [
       "<Figure size 432x288 with 1 Axes>"
      ]
     },
     "metadata": {},
     "output_type": "display_data"
    }
   ],
   "source": [
    "from synphot.spectrum import SourceSpectrum\n",
    "from synphot.models import Empirical1D\n",
    "\n",
    "spectrum = SourceSpectrum(Empirical1D,\n",
    "                          points=wavelengths, lookup_table=flux)\n",
    "\n",
    "spectrum.plot(flux_unit='FLAM')"
   ]
  },
  {
   "cell_type": "markdown",
   "metadata": {},
   "source": [
    "### Model the bandpasses"
   ]
  },
  {
   "cell_type": "markdown",
   "metadata": {},
   "source": [
    "We query the SDSS filter transmission functions from <a href=\"http://svo2.cab.inta-csic.es/theory/fps/index.php?mode=voservice\">SVO</a> using the <a href=\"https://tynt.readthedocs.io/en/latest/index.html\">tynt</a> package. These transmission functions include the effect of the CCD's quantum efficiency on the spectrum."
   ]
  },
  {
   "cell_type": "markdown",
   "metadata": {},
   "source": [
    "To construct a bandpass from an array with `synphot`, use <a href=\"https://synphot.readthedocs.io/en/latest/api/synphot.spectrum.SpectralElement.html#synphot.spectrum\">SpectralElement</a> with the Empirical1D model:"
   ]
  },
  {
   "cell_type": "code",
   "execution_count": 105,
   "metadata": {
    "collapsed": false
   },
   "outputs": [
    {
     "name": "stderr",
     "output_type": "stream",
     "text": [
      "WARNING: W42: /var/folders/bn/d7v8bk_16cjg8qcm1gj03m6h0000gp/T/tmplice7m4o:2:0: W42: No XML namespace specified [astropy.io.votable.tree]\n",
      "WARNING: W42: /var/folders/bn/d7v8bk_16cjg8qcm1gj03m6h0000gp/T/tmp4ey54u28:2:0: W42: No XML namespace specified [astropy.io.votable.tree]\n",
      "WARNING: W42: /var/folders/bn/d7v8bk_16cjg8qcm1gj03m6h0000gp/T/tmps_32zj7u:2:0: W42: No XML namespace specified [astropy.io.votable.tree]\n",
      "WARNING: W42: /var/folders/bn/d7v8bk_16cjg8qcm1gj03m6h0000gp/T/tmpdqogkz7w:2:0: W42: No XML namespace specified [astropy.io.votable.tree]\n",
      "WARNING: W42: /var/folders/bn/d7v8bk_16cjg8qcm1gj03m6h0000gp/T/tmpbz1rgik9:2:0: W42: No XML namespace specified [astropy.io.votable.tree]\n"
     ]
    },
    {
     "data": {
      "image/png": "[encoded data removed]",
      "text/plain": [
       "<Figure size 432x288 with 1 Axes>"
      ]
     },
     "metadata": {},
     "output_type": "display_data"
    }
   ],
   "source": [
    "import tynt\n",
    "from synphot.spectrum import SpectralElement\n",
    "\n",
    "sdss_bands = ['u', 'g', 'r', 'i', 'z']\n",
    "\n",
    "f = tynt.FilterGenerator()\n",
    "\n",
    "bandpasses = {}\n",
    "for band in sdss_bands:\n",
    "    filt = f.download_true_transmittance('SLOAN/SDSS.' + band)\n",
    "    bp = SpectralElement(Empirical1D,\n",
    "                         points=filt.wavelength,\n",
    "                         lookup_table=filt.transmittance)\n",
    "    # for boxy bandpasses, tapering them with taper() is recommended\n",
    "    bandpasses[band] = bp.taper()\n",
    "\n",
    "    plt.plot(bp.waveset, bp(bp.waveset), label=band)\n",
    "plt.legend(loc='upper right')\n",
    "plt.show()\n"
   ]
  },
  {
   "cell_type": "markdown",
   "metadata": {},
   "source": [
    "You can also construct a bandpass from a file using <tt>synphot</tt>'s <a href=\"https://synphot.readthedocs.io/en/latest/api/synphot.spectrum.SpectralElement.html#synphot.spectrum.SpectralElement.from_file\">SpectralElement.from_file()</a>"
   ]
  },
  {
   "cell_type": "markdown",
   "metadata": {},
   "source": [
    "Once we have all of the effects on the source spectrum set, we can combine them together by simply multiplying the SpectralElement objects:"
   ]
  },
  {
   "cell_type": "markdown",
   "metadata": {},
   "source": [
    "### Model the observation"
   ]
  },
  {
   "cell_type": "code",
   "execution_count": 106,
   "metadata": {
    "collapsed": false
   },
   "outputs": [
    {
     "name": "stderr",
     "output_type": "stream",
     "text": [
      "WARNING: Source spectrum is tapered. [synphot.observation]\n"
     ]
    }
   ],
   "source": [
    "from synphot.observation import Observation\n",
    "\n",
    "mags_extrap = {}\n",
    "for band in sdss_bands:\n",
    "    observation = Observation(spectrum, bandpasses[band], force='taper')\n",
    "    mags_extrap[band] = observation.effstim('ABmag').value\n",
    "\n",
    "# SDSS mags aren't exactly equal to AB mags. Apply corrections\n",
    "mags['u'] += 0.04\n",
    "mags['z'] -= 0.02"
   ]
  },
  {
   "cell_type": "code",
   "execution_count": 107,
   "metadata": {
    "collapsed": false
   },
   "outputs": [
    {
     "name": "stdout",
     "output_type": "stream",
     "text": [
      "u mag = 18.25164\n",
      "g mag = 17.10053\n",
      "r mag = 16.47924\n",
      "i mag = 16.0022\n",
      "z mag = 15.60309\n"
     ]
    }
   ],
   "source": [
    "for band in sdss_bands:\n",
    "    print(band + ' mag =', np.round(mags[band], 5))"
   ]
  },
  {
   "cell_type": "markdown",
   "metadata": {},
   "source": [
    "### Compare the u,g,r,i,z empirical magnitudes to what we predict with synphot"
   ]
  },
  {
   "cell_type": "markdown",
   "metadata": {},
   "source": [
    "Get the magnitudes measured by the SDSS fibers"
   ]
  },
  {
   "cell_type": "code",
   "execution_count": 108,
   "metadata": {
    "collapsed": false
   },
   "outputs": [
    {
     "name": "stderr",
     "output_type": "stream",
     "text": [
      "//anaconda/lib/python3.5/site-packages/astroquery/sdss/core.py:856: VisibleDeprecationWarning: Reading unicode strings without specifying the encoding argument is deprecated. Set the encoding, use None for the system default.\n",
      "  comments='#'))\n"
     ]
    }
   ],
   "source": [
    "fiber_mags = ['fiberMag_' + band for band in sdss_bands]\n",
    "mag_table = SDSS.query_crossid(coordinates = coords, photoobj_fields=fiber_mags)"
   ]
  },
  {
   "cell_type": "code",
   "execution_count": 109,
   "metadata": {
    "collapsed": false
   },
   "outputs": [
    {
     "data": {
      "text/html": [
       "<i>Table length=1</i>\n",
       "<table id=\"table4364226688\" class=\"table-striped table-bordered table-condensed\">\n",
       "<thead><tr><th>obj_id</th><th>objID</th><th>fiberMag_u</th><th>fiberMag_g</th><th>fiberMag_r</th><th>fiberMag_i</th><th>fiberMag_z</th><th>obj_id1</th><th>type</th></tr></thead>\n",
       "<thead><tr><th>bytes5</th><th>int64</th><th>float64</th><th>float64</th><th>float64</th><th>float64</th><th>float64</th><th>int64</th><th>bytes6</th></tr></thead>\n",
       "<tr><td>obj_0</td><td>1237662301903192106</td><td>18.43611</td><td>17.3877</td><td>16.79793</td><td>16.32855</td><td>15.95897</td><td>1237662301903192106</td><td>GALAXY</td></tr>\n",
       "</table>"
      ],
      "text/plain": [
       "<Table length=1>\n",
       "obj_id        objID        fiberMag_u ... fiberMag_z       obj_id1        type \n",
       "bytes5        int64         float64   ...  float64          int64        bytes6\n",
       "------ ------------------- ---------- ... ---------- ------------------- ------\n",
       " obj_0 1237662301903192106   18.43611 ...   15.95897 1237662301903192106 GALAXY"
      ]
     },
     "execution_count": 109,
     "metadata": {},
     "output_type": "execute_result"
    }
   ],
   "source": [
    "mag_table"
   ]
  },
  {
   "cell_type": "code",
   "execution_count": 110,
   "metadata": {
    "collapsed": false
   },
   "outputs": [
    {
     "name": "stdout",
     "output_type": "stream",
     "text": [
      "     fiberMag_u    \n",
      "-------------------\n",
      "0.18447322572909997\n",
      "    fiberMag_g    \n",
      "------------------\n",
      "0.2871712863745941\n",
      "    fiberMag_r    \n",
      "------------------\n",
      "0.3186883207360083\n",
      "    fiberMag_i    \n",
      "------------------\n",
      "0.3263531185552928\n",
      "     fiberMag_z    \n",
      "-------------------\n",
      "0.35588469768173425\n"
     ]
    },
    {
     "data": {
      "text/plain": [
       "<matplotlib.legend.Legend at 0x1277de048>"
      ]
     },
     "execution_count": 110,
     "metadata": {},
     "output_type": "execute_result"
    },
    {
     "data": {
      "image/png": "[encoded data removed]",
      "text/plain": [
       "<Figure size 648x504 with 1 Axes>"
      ]
     },
     "metadata": {},
     "output_type": "display_data"
    }
   ],
   "source": [
    "plt.rcParams.update({'font.size': 14})\n",
    "fig = plt.figure(figsize=(9, 7))\n",
    "\n",
    "for band in sdss_bands:\n",
    "    plt.scatter(mag_table['fiberMag_' + band], mags[band],\n",
    "                s=100, label=band)\n",
    "    print(mag_table['fiberMag_' + band] - mags[band])\n",
    "\n",
    "# one-to-one line\n",
    "magrange = np.linspace(15, 19, 10)\n",
    "plt.plot(magrange, magrange, color='black')\n",
    "\n",
    "plt.ylabel('synphot mag', size='14')\n",
    "plt.xlabel('observed mag', size='14')\n",
    "\n",
    "plt.xlim(19, 15)\n",
    "plt.ylim(20.5, 15)\n",
    "\n",
    "plt.legend(prop={'size': 18})"
   ]
  }
 ],
 "metadata": {
  "anaconda-cloud": {},
  "kernelspec": {
   "display_name": "Python [default]",
   "language": "python",
   "name": "python3"
  },
  "language_info": {
   "codemirror_mode": {
    "name": "ipython",
    "version": 3
   },
   "file_extension": ".py",
   "mimetype": "text/x-python",
   "name": "python",
   "nbconvert_exporter": "python",
   "pygments_lexer": "ipython3",
   "version": "3.5.2"
  }
 },
 "nbformat": 4,
 "nbformat_minor": 2
}
