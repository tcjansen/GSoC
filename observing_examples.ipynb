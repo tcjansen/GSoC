{
 "cells": [
  {
   "cell_type": "markdown",
   "metadata": {},
   "source": [
    "# <tt>synphot</tt>: Predicting count rates with a ground based telescope"
   ]
  },
  {
   "cell_type": "markdown",
   "metadata": {},
   "source": [
    "## Authors\n",
    "Tiffany Jansen, Brett Morris, Pey Lian Lim, & Erik Tollerud"
   ]
  },
  {
   "cell_type": "markdown",
   "metadata": {},
   "source": [
    "## Objectives\n",
    "<ul>\n",
    "<li>Query data directly from other websites using `astropy.coordinates.Skycoord`, `astroquery.Gaia`, `astropy.io`, and `astropy.utils`</li>\n",
    "<li>Construct a source spectrum using `synphot.SourceSpectrum`</li>\n",
    "<li>Simulate bandpass throughput with `synphot.SpectralElement`</li>\n",
    "<li>Model effects on the source spectrum such as atmospheric transmission and quantum efficiency with `synphot.SpectralElement`</li>\n",
    "<li>Combine all of these effects into a simulated observation with `synphot.Observation`</li>\n",
    "<li>Compute the expected count rate from this observation with `synphot`'s `countrate()` function\n",
    "</ul>"
   ]
  },
  {
   "cell_type": "markdown",
   "metadata": {},
   "source": [
    "## Keywords\n",
    "synphot, synthetic photometry, astropy, astroquery, astronomy"
   ]
  },
  {
   "cell_type": "markdown",
   "metadata": {},
   "source": [
    "## Summary\n",
    "In this tutorial we will:\n",
    "<ol>\n",
    "<li><a href=\"#query_properties\">Query the properties of our target star</a> (HAT-P-11 to start)</li>\n",
    "<li><a href=\"#phoenix\">Download model spectra from PHOENIX</a></li>\n",
    "<li><a href=\"#source_spectrum\">Construct a source spectrum</a></li>\n",
    "<li><a href=\"#bandpass\">Create the bandpass of observation</a></li>\n",
    "<li><a href=\"#atmosphere\">Model attenuation by the atmosphere</a></li>\n",
    "<li><a href=\"#qe\">Model the effect of the quantum efficiency</a></li>\n",
    "<li><a href=\"#observation\">Combine all of the effects and \"observe\"</a></li>\n",
    "<li><a href=\"#counts\">Compute the count rate and total counts</a></li>\n",
    "<li><a href=\"#trappist1\">Another example, this time with TRAPPIST-1</a></li>\n",
    "<li><a href=\"#compare\">Comparing simulated counts to observed counts</a></li>\n",
    "</ol>"
   ]
  },
  {
   "cell_type": "code",
   "execution_count": 18,
   "metadata": {
    "collapsed": true
   },
   "outputs": [],
   "source": [
    "%matplotlib inline\n",
    "import matplotlib.pyplot as plt\n",
    "import numpy as np\n",
    "\n",
    "import astropy.units as u\n",
    "from astropy.io import fits\n",
    "from astropy.utils.data import download_file\n",
    "from astropy.coordinates import SkyCoord\n",
    "\n",
    "from astroquery.gaia import Gaia\n",
    "\n",
    "import synphot.units as units\n",
    "from synphot.models import Empirical1D\n",
    "from synphot.spectrum import SourceSpectrum, SpectralElement\n",
    "from synphot.observation import Observation"
   ]
  },
  {
   "cell_type": "markdown",
   "metadata": {},
   "source": [
    "<a id='query_properties'></a>\n",
    "## 1. Query the properties of HAT-P-11"
   ]
  },
  {
   "cell_type": "markdown",
   "metadata": {},
   "source": [
    "First we get the star's parameters using <a href=\"https://astroquery.readthedocs.io/en/latest/\">astroquery's</a> <a href=\"https://astroquery.readthedocs.io/en/latest/gaia/gaia.html\">Gaia query</a>: "
   ]
  },
  {
   "cell_type": "code",
   "execution_count": 19,
   "metadata": {
    "collapsed": false
   },
   "outputs": [
    {
     "name": "stdout",
     "output_type": "stream",
     "text": [
      "Query finished.\n"
     ]
    }
   ],
   "source": [
    "ID = 'HAT-P-11'\n",
    "\n",
    "coord = SkyCoord.from_name(ID)\n",
    "width = u.Quantity(1, u.arcmin)  # width / height of search\n",
    "height = u.Quantity(1, u.arcmin)\n",
    "search_results = Gaia.query_object_async(coordinate=coord, width=width, height=height)\n",
    "\n",
    "# the queried star will be the one nearest to the given coordinates\n",
    "search_results.add_index('dist', unique=True)\n",
    "hatp11_info = search_results.loc['dist', min(search_results['dist'])]\n",
    "\n",
    "# now get the parameters\n",
    "stellar_radius = hatp11_info['radius_val'] * u.R_sun\n",
    "# divide 1 AU by parallax (arcseconds) to get distance in parsecs.\n",
    "# parallax is given in milliarcseconds, so multiply by 1000: \n",
    "distance = (1 / (hatp11_info['parallax']) * 1000) * u.pc\n",
    "T_eff = hatp11_info['teff_val']"
   ]
  },
  {
   "cell_type": "markdown",
   "metadata": {},
   "source": [
    "<a id=\"phoenix\"></a>\n",
    "## 2. Download a model spectrum for HAT-P-11 from <a href=\"http://phoenix.astro.physik.uni-goettingen.de/\">PHOENIX</a>:"
   ]
  },
  {
   "cell_type": "code",
   "execution_count": 20,
   "metadata": {
    "collapsed": true
   },
   "outputs": [],
   "source": [
    "T_eff = round(T_eff, -2)  # round to nearest 100 K\n",
    "\n",
    "url = ('ftp://phoenix.astro.physik.uni-goettingen.de/v2.0/HiResFITS/'\n",
    "       'PHOENIX-ACES-AGSS-COND-2011/Z-0.0/lte{T_eff:05d}-{log_g:1.2f}-0.0.PHOENIX-'\n",
    "       'ACES-AGSS-COND-2011-HiRes.fits').format(T_eff=int(T_eff), log_g=4.5)\n",
    "# Unit from PHOENIX model file:\n",
    "flux = fits.getdata(url) * (u.erg / u.s / u.cm ** 2 / u.cm)\n",
    "\n",
    "wavelength_url = ('ftp://phoenix.astro.physik.uni-goettingen.de/v2.0/HiResFITS/'\n",
    "                  'WAVE_PHOENIX-ACES-AGSS-COND-2011.fits')\n",
    "wavelengths = fits.getdata(wavelength_url) * u.Angstrom"
   ]
  },
  {
   "cell_type": "markdown",
   "metadata": {},
   "source": [
    "<a id=\"source_spectrum\"></a>\n",
    "## 3. Construct a `synphot` <a href=\"https://synphot.readthedocs.io/en/latest/synphot/spectrum.html#arrays\">source spectrum object</a> from the above arrays:"
   ]
  },
  {
   "cell_type": "code",
   "execution_count": 21,
   "metadata": {
    "collapsed": false
   },
   "outputs": [
    {
     "data": {
      "image/png": "[encoded data removed]",
      "text/plain": [
       "<Figure size 432x288 with 1 Axes>"
      ]
     },
     "metadata": {
      "needs_background": "light"
     },
     "output_type": "display_data"
    }
   ],
   "source": [
    "photlam_hatp11 = SourceSpectrum(Empirical1D,\n",
    "                                points=wavelengths, lookup_table=flux)\n",
    "\n",
    "# Scale the flux to get the value at Earth\n",
    "photlam_hatp11 = photlam_hatp11 * float(stellar_radius / distance) ** 2 / np.pi\n",
    "\n",
    "photlam_hatp11.plot(flux_unit='Jy', left=0, right=60000)"
   ]
  },
  {
   "cell_type": "markdown",
   "metadata": {},
   "source": [
    "(for other methods of constructing source spectra with `synphot`, see the first bulleted list <a href=\"https://synphot.readthedocs.io/en/latest/synphot/spectrum.html#arrays\">here</a>) "
   ]
  },
  {
   "cell_type": "markdown",
   "metadata": {},
   "source": [
    "<a id=\"bandpass\"></a>\n",
    "## Now we will simulate the observation with a specific instrument"
   ]
  },
  {
   "cell_type": "markdown",
   "metadata": {},
   "source": [
    "<p>Let's observe HAT-P-11 with the <a href=\"https://www.apo.nmsu.edu/arc35m/Instruments/ARCTIC/\">ARCTIC instrument</a> on APO's 3.5m telescope."
   ]
  },
  {
   "cell_type": "code",
   "execution_count": 22,
   "metadata": {
    "collapsed": true
   },
   "outputs": [],
   "source": [
    "aperture_radius = 3.5 / 2 * u.m  # radius of 3.5m ARC telescope at APO\n",
    "aperture_area = np.pi * aperture_radius ** 2\n",
    "gain = 1.9  # the gain of this detector in e-/ADU"
   ]
  },
  {
   "cell_type": "markdown",
   "metadata": {},
   "source": [
    "## 4.  Create the bandpass"
   ]
  },
  {
   "cell_type": "markdown",
   "metadata": {},
   "source": [
    "For the bandpass we will use the SDSS r- and z- filters whose transmission functions we query from <a href=\"http://svo2.cab.inta-csic.es/theory/fps/index.php?mode=voservice\">SVO</a>. \n",
    "<p>To construct a bandpass from a file with <tt>synphot</tt>, use <a href=\"https://synphot.readthedocs.io/en/latest/api/synphot.spectrum.SpectralElement.html#synphot.spectrum\">SpectralElement</a>:</p>"
   ]
  },
  {
   "cell_type": "code",
   "execution_count": 23,
   "metadata": {
    "collapsed": false
   },
   "outputs": [
    {
     "data": {
      "image/png": "[encoded data removed]",
      "text/plain": [
       "<Figure size 432x288 with 1 Axes>"
      ]
     },
     "metadata": {
      "needs_background": "light"
     },
     "output_type": "display_data"
    }
   ],
   "source": [
    "sdss = ['r', 'z']  # only want r- and z-bands for now\n",
    "apo_sdss_link = 'http://filters.apo.nmsu.edu/data/SDSS/'\n",
    "\n",
    "bandpasses = {}\n",
    "for band in sdss:\n",
    "    local_path = download_file(apo_sdss_link + band + '.dat')\n",
    "    bp = SpectralElement.from_file(local_path)\n",
    "    bandpasses[band] = bp\n",
    "    \n",
    "    plt.plot(bp.waveset, bp(bp.waveset), label=band)\n",
    "plt.legend(loc='lower right')\n",
    "plt.xlim(3000, 14000)\n",
    "plt.show()\n",
    "    "
   ]
  },
  {
   "cell_type": "markdown",
   "metadata": {},
   "source": [
    "<a id=\"atmosphere\"></a>\n",
    "## 5. Model the attenuation by the atmosphere"
   ]
  },
  {
   "cell_type": "markdown",
   "metadata": {},
   "source": [
    "We use the Cerro Paranal model transmittance curves for an airmass of 1.5:"
   ]
  },
  {
   "cell_type": "code",
   "execution_count": 24,
   "metadata": {
    "collapsed": false
   },
   "outputs": [
    {
     "data": {
      "image/png": "[encoded data removed]",
      "text/plain": [
       "<Figure size 432x288 with 1 Axes>"
      ]
     },
     "metadata": {
      "needs_background": "light"
     },
     "output_type": "display_data"
    }
   ],
   "source": [
    "atmosphere = SpectralElement.from_file('CerroParanal-atmosx1.5.txt', wave_unit=\"nm\")\n",
    "atmosphere.plot(left=3000, right=14000)"
   ]
  },
  {
   "cell_type": "markdown",
   "metadata": {},
   "source": [
    "<a id=\"qe\"></a>\n",
    "## 6. Model the affect of the CCD's quantum efficiency on the spectrum"
   ]
  },
  {
   "cell_type": "markdown",
   "metadata": {},
   "source": [
    "For this we use the values in the table found in section 3.5 on <a href=\"https://www.apo.nmsu.edu/arc35m/Instruments/ARCTIC/#3p5\">this page</a>."
   ]
  },
  {
   "cell_type": "code",
   "execution_count": 25,
   "metadata": {
    "collapsed": false
   },
   "outputs": [
    {
     "data": {
      "image/png": "[encoded data removed]",
      "text/plain": [
       "<Figure size 432x288 with 1 Axes>"
      ]
     },
     "metadata": {
      "needs_background": "light"
     },
     "output_type": "display_data"
    }
   ],
   "source": [
    "quantum_efficiency = SpectralElement.from_file('ccd_QE.csv', wave_unit=\"nm\")\n",
    "quantum_efficiency._model.lookup_table /= 100  # convert percentages to decimals\n",
    "\n",
    "quantum_efficiency.plot(left=3000, right=14000)"
   ]
  },
  {
   "cell_type": "markdown",
   "metadata": {},
   "source": [
    "<a id=\"observation\"></a>\n",
    "## 7. Combine all of the effects and \"observe\""
   ]
  },
  {
   "cell_type": "markdown",
   "metadata": {},
   "source": [
    "Once we have all of the effects on the source spectrum set, we can combine them together by simply multiplying the SpectralElement objects:"
   ]
  },
  {
   "cell_type": "code",
   "execution_count": 26,
   "metadata": {
    "collapsed": false
   },
   "outputs": [
    {
     "data": {
      "image/png": "[encoded data removed]",
      "text/plain": [
       "<Figure size 432x288 with 1 Axes>"
      ]
     },
     "metadata": {
      "needs_background": "light"
     },
     "output_type": "display_data"
    }
   ],
   "source": [
    "bp_atmos_qe = {} # setting up a dictionary for the different SDSS bands\n",
    "for band in sdss:\n",
    "    bp_atmos_qe[band] = bandpasses[band] * atmosphere * quantum_efficiency\n",
    "    \n",
    "bp_atmos_qe['r'].plot(left=3000, right=14000)"
   ]
  },
  {
   "cell_type": "markdown",
   "metadata": {},
   "source": [
    "Finally, we convolve the source spectrum with all of these effects using <tt>synphot</tt>'s <a href=\"https://synphot.readthedocs.io/en/latest/synphot/observation.html\">Observation</a>:"
   ]
  },
  {
   "cell_type": "code",
   "execution_count": 27,
   "metadata": {
    "collapsed": true
   },
   "outputs": [],
   "source": [
    "band = 'r'  # only want to know about the r-band\n",
    "\n",
    "observation = Observation(photlam_hatp11, \n",
    "                      bp_atmos_qe[band],\n",
    "                      binset=bp_atmos_qe[band].waveset,\n",
    "                      force='taper')"
   ]
  },
  {
   "cell_type": "markdown",
   "metadata": {},
   "source": [
    "<a id=\"counts\"></a>\n",
    "## 8. Compute the count rate and total counts"
   ]
  },
  {
   "cell_type": "markdown",
   "metadata": {},
   "source": [
    "To get the expected count rate for a specific collecting area, use the <a href=\"https://synphot.readthedocs.io/en/latest/api/synphot.observation.Observation.html#synphot.observation.Observation.countrate\">countrate()</a> method on the observation object: "
   ]
  },
  {
   "cell_type": "code",
   "execution_count": 28,
   "metadata": {
    "collapsed": true
   },
   "outputs": [],
   "source": [
    "waverange = (3000, 11300) # according to the ARCTIC webpage, the z band is cut off around 11k AA\n",
    "\n",
    "countrate = observation.countrate(area=aperture_area, waverange=waverange) / gain"
   ]
  },
  {
   "cell_type": "markdown",
   "metadata": {},
   "source": [
    "How many counts can we expect in a 10s exposure?"
   ]
  },
  {
   "cell_type": "code",
   "execution_count": 29,
   "metadata": {
    "collapsed": false
   },
   "outputs": [
    {
     "name": "stdout",
     "output_type": "stream",
     "text": [
      "HAT-P-11 counts in the r-band, 10 s exposure:\n",
      "38324129 cts\n"
     ]
    }
   ],
   "source": [
    "counts_hatp11 = countrate * 10 * u.s\n",
    "\n",
    "print(\"HAT-P-11 counts in the r-band, 10 s exposure:\")\n",
    "print(int(counts_hatp11.value), \"cts\")"
   ]
  },
  {
   "cell_type": "markdown",
   "metadata": {},
   "source": [
    "<a id=\"trappist1\"></a>\n",
    "## Another example, this time with <a href=\"https://en.wikipedia.org/wiki/TRAPPIST-1\">TRAPPIST-1</a>"
   ]
  },
  {
   "cell_type": "markdown",
   "metadata": {
    "collapsed": true
   },
   "source": [
    "(using the same instrument and telescope)"
   ]
  },
  {
   "cell_type": "code",
   "execution_count": 42,
   "metadata": {
    "collapsed": true
   },
   "outputs": [],
   "source": [
    "T_eff = 2600 # approx temperature of trappist-1 [K], Gillon 2017\n",
    "\n",
    "url = ('ftp://phoenix.astro.physik.uni-goettingen.de/v2.0/HiResFITS/'\n",
    "       'PHOENIX-ACES-AGSS-COND-2011/Z-0.0/lte{T_eff:05d}-{log_g:1.2f}-0.0.PHOENIX-'\n",
    "       'ACES-AGSS-COND-2011-HiRes.fits').format(T_eff=T_eff, log_g=4.5)\n",
    "# Unit from PHOENIX model file:\n",
    "flux = fits.getdata(url) * (u.erg / u.s / u.cm ** 2 / u.cm)\n",
    "\n",
    "wavelength_url = ('ftp://phoenix.astro.physik.uni-goettingen.de/v2.0/HiResFITS/'\n",
    "                  'WAVE_PHOENIX-ACES-AGSS-COND-2011.fits')\n",
    "wavelengths = fits.getdata(wavelength_url) * u.Angstrom"
   ]
  },
  {
   "cell_type": "markdown",
   "metadata": {},
   "source": [
    "Unfortunately Gaia does not have all the parameters we need for TRAPPIST-1, so we use the values cited in <a href=\"https://arxiv.org/pdf/1703.01424.pdf\">Gillon 2017</a>:"
   ]
  },
  {
   "cell_type": "code",
   "execution_count": 43,
   "metadata": {
    "collapsed": false,
    "scrolled": true
   },
   "outputs": [
    {
     "data": {
      "image/png": "[encoded data removed]",
      "text/plain": [
       "<Figure size 432x288 with 1 Axes>"
      ]
     },
     "metadata": {
      "needs_background": "light"
     },
     "output_type": "display_data"
    }
   ],
   "source": [
    "photlam_trappist1 = SourceSpectrum(Empirical1D,\n",
    "                                points=wavelengths, lookup_table=flux)\n",
    "\n",
    "# Scale the flux to get the value at Earth\n",
    "stellar_radius = 0.117 * u.R_sun  # radius of trappist-1 in solar units\n",
    "distance = 12.1 * u.pc  # distance to trappist-1 in parsecs\n",
    "photlam_trappist1 = photlam_trappist1 * float(stellar_radius / distance) ** 2 / np.pi\n",
    "\n",
    "photlam_trappist1.plot(flux_unit='Jy', left=0, right=60000)"
   ]
  },
  {
   "cell_type": "markdown",
   "metadata": {},
   "source": [
    "This time I just want to know about observations in the z-band:"
   ]
  },
  {
   "cell_type": "code",
   "execution_count": 44,
   "metadata": {
    "collapsed": false
   },
   "outputs": [
    {
     "name": "stdout",
     "output_type": "stream",
     "text": [
      "TRAPPIST-1 counts in the z-band, 10 s exposure:\n",
      "311256 cts\n"
     ]
    }
   ],
   "source": [
    "band = 'z'\n",
    "observation = Observation(photlam_trappist1, \n",
    "                      bp_atmos_qe[band],\n",
    "                      binset=bp_atmos_qe[band].waveset,\n",
    "                      force='taper')\n",
    "\n",
    "countrate = observation.countrate(area=aperture_area, waverange=waverange) / gain\n",
    "counts_trappist1 = countrate * 10 * u.s\n",
    "\n",
    "print(\"TRAPPIST-1 counts in the z-band, 10 s exposure:\")\n",
    "print(int(counts_trappist1.value), \"cts\")"
   ]
  },
  {
   "cell_type": "markdown",
   "metadata": {},
   "source": [
    "<a id=\"compare\"></a>\n",
    "## 10. Comparing simluated counts to observed counts"
   ]
  },
  {
   "cell_type": "markdown",
   "metadata": {},
   "source": [
    "We know from observations using AGILE on APO's 3.5m telescope that the actual count values for these stars taken on {date} are:"
   ]
  },
  {
   "cell_type": "code",
   "execution_count": 45,
   "metadata": {
    "collapsed": false
   },
   "outputs": [
    {
     "name": "stdout",
     "output_type": "stream",
     "text": [
      "HAT-P-11 in r-band: 34.0 million counts\n"
     ]
    }
   ],
   "source": [
    "hatp11_r_observed = 34000000\n",
    "print('HAT-P-11 in r-band:', hatp11_r_observed / 1e6, 'million counts')"
   ]
  },
  {
   "cell_type": "code",
   "execution_count": 46,
   "metadata": {
    "collapsed": false
   },
   "outputs": [
    {
     "name": "stdout",
     "output_type": "stream",
     "text": [
      "TRAPPIST-1 in z-band: 203.0 thousand counts\n"
     ]
    }
   ],
   "source": [
    "trappist1_z_observed = 203000\n",
    "print('TRAPPIST-1 in z-band:', trappist1_z_observed / 1e3, 'thousand counts')"
   ]
  },
  {
   "cell_type": "markdown",
   "metadata": {},
   "source": [
    "Comparing our expected values to the observed values on a 1-1 line:"
   ]
  },
  {
   "cell_type": "code",
   "execution_count": 47,
   "metadata": {
    "collapsed": false
   },
   "outputs": [
    {
     "data": {
      "text/plain": [
       "<matplotlib.legend.Legend at 0xb1b5bcc88>"
      ]
     },
     "execution_count": 47,
     "metadata": {},
     "output_type": "execute_result"
    },
    {
     "data": {
      "image/png": "[encoded data removed]",
      "text/plain": [
       "<Figure size 432x288 with 1 Axes>"
      ]
     },
     "metadata": {
      "needs_background": "light"
     },
     "output_type": "display_data"
    }
   ],
   "source": [
    "plt.scatter(trappist1_z_observed, counts_trappist1, color='r', s=100, label='TRAPPIST1')\n",
    "plt.scatter(hatp11_r_observed, counts_hatp11, color='b', s=100, label=\"HATP11\")\n",
    "\n",
    "# one-to-one line\n",
    "plt.plot(np.linspace(1e5, 1e8, 20), np.linspace(1e5, 1e8, 20), color='black')\n",
    "\n",
    "plt.xscale('log')\n",
    "plt.yscale('log')\n",
    "\n",
    "plt.ylabel('synphot counts', size='14')\n",
    "plt.xlabel('observed counts', size='14')\n",
    "\n",
    "plt.legend()"
   ]
  }
 ],
 "metadata": {
  "anaconda-cloud": {},
  "kernelspec": {
   "display_name": "Python [default]",
   "language": "python",
   "name": "python3"
  },
  "language_info": {
   "codemirror_mode": {
    "name": "ipython",
    "version": 3
   },
   "file_extension": ".py",
   "mimetype": "text/x-python",
   "name": "python",
   "nbconvert_exporter": "python",
   "pygments_lexer": "ipython3",
   "version": "3.5.2"
  }
 },
 "nbformat": 4,
 "nbformat_minor": 1
}
