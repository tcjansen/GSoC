{
 "cells": [
  {
   "cell_type": "markdown",
   "metadata": {},
   "source": [
    "# <tt>synphot</tt>: Predicting count rates with ground-based and space-based telescopes"
   ]
  },
  {
   "cell_type": "markdown",
   "metadata": {},
   "source": [
    "## Authors\n",
    "Tiffany Jansen, Brett Morris, Pey Lian Lim, & Erik Tollerud"
   ]
  },
  {
   "cell_type": "markdown",
   "metadata": {},
   "source": [
    "## Objectives\n",
    "<ul>\n",
    "<li>Query data directly from other websites using `astropy.coordinates.Skycoord`, `astroquery.Gaia`, `astropy.io`, and `astropy.utils`</li>\n",
    "<li>Construct a source spectrum using `synphot.SourceSpectrum`</li>\n",
    "<li>Simulate bandpass throughput with `synphot.SpectralElement`</li>\n",
    "<li>Model effects on the source spectrum such as atmospheric transmission and quantum efficiency with `synphot.SpectralElement`</li>\n",
    "<li>Combine all of these effects into a simulated observation with `synphot.Observation`</li>\n",
    "<li>Compute the expected count rate from this observation with `synphot`'s `countrate()` function\n",
    "</ul>"
   ]
  },
  {
   "cell_type": "markdown",
   "metadata": {},
   "source": [
    "## Keywords\n",
    "synphot, synthetic photometry, astropy, astroquery, astronomy"
   ]
  },
  {
   "cell_type": "markdown",
   "metadata": {},
   "source": [
    "## Summary\n",
    "In this tutorial we will:\n",
    "<ol>\n",
    "<li><a href=\"#query_properties\">Query the properties of our target star</a> (HAT-P-11 to start)</li>\n",
    "<li><a href=\"#phoenix\">Download model spectra from PHOENIX</a></li>\n",
    "<li><a href=\"#source_spectrum\">Construct a source spectrum</a></li>\n",
    "<li><a href=\"#bandpass\">Create the bandpass of observation</a></li>\n",
    "<li><a href=\"#atmosphere\">Model attenuation by the atmosphere</a></li>\n",
    "<li><a href=\"#qe\">Model the effect of the quantum efficiency</a></li>\n",
    "<li><a href=\"#observation\">Combine all of the effects and \"observe\"</a></li>\n",
    "<li><a href=\"#counts\">Compute the count rate and total counts</a></li>\n",
    "<li><a href=\"#trappist1\">Look at another example, this time with TRAPPIST-1</a></li>\n",
    "<li><a href=\"#kepler\">Simulate observations with a space-based telescope</a></li>\n",
    "<li><a href=\"#compare\">Compare simulated counts to observed counts</a></li>\n",
    "</ol>"
   ]
  },
  {
   "cell_type": "code",
   "execution_count": 2,
   "metadata": {},
   "outputs": [
    {
     "name": "stdout",
     "output_type": "stream",
     "text": [
      "Created TAP+ (v1.0.1) - Connection:\n",
      "\tHost: gea.esac.esa.int\n",
      "\tUse HTTPS: False\n",
      "\tPort: 80\n",
      "\tSSL Port: 443\n"
     ]
    }
   ],
   "source": [
    "%matplotlib inline\n",
    "import matplotlib.pyplot as plt\n",
    "import numpy as np\n",
    "\n",
    "import astropy.units as u\n",
    "from astropy.io import fits\n",
    "from astropy.utils.data import download_file\n",
    "from astropy.coordinates import SkyCoord\n",
    "\n",
    "from astroquery.gaia import Gaia\n",
    "\n",
    "from synphot import units\n",
    "from synphot.models import Empirical1D\n",
    "from synphot.spectrum import SourceSpectrum, SpectralElement\n",
    "from synphot.observation import Observation"
   ]
  },
  {
   "cell_type": "markdown",
   "metadata": {},
   "source": [
    "<a id='query_properties'></a>\n",
    "## 1. Query the properties of HAT-P-11"
   ]
  },
  {
   "cell_type": "markdown",
   "metadata": {},
   "source": [
    "First we get the star's parameters using <a href=\"https://astroquery.readthedocs.io/en/latest/\">astroquery's</a> <a href=\"https://astroquery.readthedocs.io/en/latest/gaia/gaia.html\">Gaia query</a>: "
   ]
  },
  {
   "cell_type": "code",
   "execution_count": 3,
   "metadata": {},
   "outputs": [
    {
     "name": "stderr",
     "output_type": "stream",
     "text": [
      "WARNING: W35: None:5:0: W35: 'value' attribute required for INFO elements [astropy.io.votable.tree]\n",
      "WARNING: W35: None:6:0: W35: 'value' attribute required for INFO elements [astropy.io.votable.tree]\n",
      "WARNING: W35: None:7:0: W35: 'value' attribute required for INFO elements [astropy.io.votable.tree]\n",
      "WARNING: W35: None:8:0: W35: 'value' attribute required for INFO elements [astropy.io.votable.tree]\n",
      "WARNING: W35: None:10:0: W35: 'value' attribute required for INFO elements [astropy.io.votable.tree]\n",
      "WARNING: W27: None:11:0: W27: COOSYS deprecated in VOTable 1.2 [astropy.io.votable.tree]\n",
      "WARNING: W06: None:48:0: W06: Invalid UCD 'arith.ratio': Secondary word 'arith.ratio' is not valid as a primary word [astropy.io.votable.tree]\n",
      "WARNING: W50: None:51:0: W50: Invalid unit string 'mas.yr**-1' [astropy.io.votable.tree]\n",
      "WARNING: W50: None:54:0: W50: Invalid unit string 'mas.yr**-1' [astropy.io.votable.tree]\n",
      "WARNING: W50: None:57:0: W50: Invalid unit string 'mas.yr**-1' [astropy.io.votable.tree]\n",
      "WARNING: W50: None:60:0: W50: Invalid unit string 'mas.yr**-1' [astropy.io.votable.tree]\n",
      "WARNING: W50: None:123:0: W50: Invalid unit string 'mas**-2' [astropy.io.votable.tree]\n",
      "WARNING: W50: None:126:0: W50: Invalid unit string 'um**-1' [astropy.io.votable.tree]\n",
      "WARNING: W06: None:129:0: W06: Invalid UCD 'em.wavenumber;stat.error': Primary word 'stat.error' is not valid as a secondary word [astropy.io.votable.tree]\n",
      "WARNING: W50: None:129:0: W50: Invalid unit string 'um**-1' [astropy.io.votable.tree]\n",
      "WARNING: W06: None:141:0: W06: Invalid UCD 'pos.errorEllipse;stat.max': Secondary word 'pos.errorEllipse' is not valid as a primary word [astropy.io.votable.tree]\n",
      "WARNING: W50: None:156:0: W50: Invalid unit string ''electron'.s**-1' [astropy.io.votable.tree]\n",
      "WARNING: W50: None:159:0: W50: Invalid unit string ''electron'.s**-1' [astropy.io.votable.tree]\n",
      "WARNING: W06: None:162:0: W06: Invalid UCD 'arith.ratio': Secondary word 'arith.ratio' is not valid as a primary word [astropy.io.votable.tree]\n",
      "WARNING: W50: None:171:0: W50: Invalid unit string ''electron'.s**-1' (suppressing further warnings of this type...) [astropy.io.votable.tree]\n",
      "WARNING: W06: None:177:0: W06: Invalid UCD 'arith.ratio': Secondary word 'arith.ratio' is not valid as a primary word [astropy.io.votable.tree]\n",
      "WARNING: W06: None:192:0: W06: Invalid UCD 'arith.ratio': Secondary word 'arith.ratio' is not valid as a primary word [astropy.io.votable.tree]\n",
      "WARNING: W06: None:204:0: W06: Invalid UCD 'phot.color': Unknown word 'phot.color' [astropy.io.votable.tree]\n",
      "WARNING: W06: None:207:0: W06: Invalid UCD 'phot.color': Unknown word 'phot.color' [astropy.io.votable.tree]\n",
      "WARNING: W06: None:210:0: W06: Invalid UCD 'phot.color': Unknown word 'phot.color' [astropy.io.votable.tree]\n",
      "WARNING: W06: None:282:0: W06: Invalid UCD 'phys.size.radius;stat.error': Primary word 'stat.error' is not valid as a secondary word (suppressing further warnings of this type...) [astropy.io.votable.tree]\n"
     ]
    },
    {
     "name": "stdout",
     "output_type": "stream",
     "text": [
      "Query finished.\n"
     ]
    }
   ],
   "source": [
    "ID = 'HAT-P-11'\n",
    "\n",
    "coord = SkyCoord.from_name(ID)\n",
    "width = u.Quantity(1, u.arcmin)  # width / height of search\n",
    "height = u.Quantity(1, u.arcmin)\n",
    "search_results = Gaia.query_object_async(coordinate=coord, width=width, height=height)\n",
    "\n",
    "# the queried star will be the one nearest to the given coordinates\n",
    "search_results.add_index('dist', unique=True)\n",
    "hatp11_info = search_results.loc['dist', min(search_results['dist'])]\n",
    "\n",
    "# now get the parameters\n",
    "stellar_radius = hatp11_info['radius_val'] * u.R_sun\n",
    "# divide 1 AU by parallax (arcseconds) to get distance in parsecs.\n",
    "# parallax is given in milliarcseconds, so multiply by 1000: \n",
    "distance = (1 / (hatp11_info['parallax']) * 1000) * u.pc\n",
    "T_eff = hatp11_info['teff_val']"
   ]
  },
  {
   "cell_type": "markdown",
   "metadata": {},
   "source": [
    "<a id=\"phoenix\"></a>\n",
    "## 2. Download a model spectrum for HAT-P-11 from <a href=\"http://phoenix.astro.physik.uni-goettingen.de/\">PHOENIX</a>:"
   ]
  },
  {
   "cell_type": "code",
   "execution_count": 4,
   "metadata": {},
   "outputs": [],
   "source": [
    "T_eff = round(T_eff, -2)  # round to nearest 100 K\n",
    "\n",
    "url = ('ftp://phoenix.astro.physik.uni-goettingen.de/v2.0/HiResFITS/'\n",
    "       'PHOENIX-ACES-AGSS-COND-2011/Z-0.0/lte{T_eff:05d}-{log_g:1.2f}-0.0.PHOENIX-'\n",
    "       'ACES-AGSS-COND-2011-HiRes.fits').format(T_eff=int(T_eff), log_g=4.5)\n",
    "# Unit from PHOENIX model file:\n",
    "flux = fits.getdata(url) * (u.erg / u.s / u.cm ** 2 / u.cm)\n",
    "\n",
    "wavelength_url = ('ftp://phoenix.astro.physik.uni-goettingen.de/v2.0/HiResFITS/'\n",
    "                  'WAVE_PHOENIX-ACES-AGSS-COND-2011.fits')\n",
    "wavelengths = fits.getdata(wavelength_url) * u.Angstrom"
   ]
  },
  {
   "cell_type": "markdown",
   "metadata": {},
   "source": [
    "<a id=\"source_spectrum\"></a>\n",
    "## 3. Construct a `synphot` <a href=\"https://synphot.readthedocs.io/en/latest/synphot/spectrum.html#arrays\">source spectrum object</a> from the above arrays:"
   ]
  },
  {
   "cell_type": "code",
   "execution_count": 5,
   "metadata": {},
   "outputs": [
    {
     "data": {
      "image/png": "[encoded data removed]",
      "text/plain": [
       "<Figure size 432x288 with 1 Axes>"
      ]
     },
     "metadata": {
      "needs_background": "light"
     },
     "output_type": "display_data"
    }
   ],
   "source": [
    "photlam_hatp11 = SourceSpectrum(Empirical1D,\n",
    "                                points=wavelengths, lookup_table=flux)\n",
    "\n",
    "# Scale the flux to get the value at Earth\n",
    "photlam_hatp11 = photlam_hatp11 * float(stellar_radius / distance) ** 2 / np.pi\n",
    "\n",
    "photlam_hatp11.plot(flux_unit='Jy', left=0, right=60000)"
   ]
  },
  {
   "cell_type": "markdown",
   "metadata": {},
   "source": [
    "(for other methods of constructing source spectra with `synphot`, see the first bulleted list <a href=\"https://synphot.readthedocs.io/en/latest/synphot/spectrum.html#arrays\">here</a>) "
   ]
  },
  {
   "cell_type": "markdown",
   "metadata": {},
   "source": [
    "<a id=\"bandpass\"></a>\n",
    "## Now we will simulate the observation with a specific instrument"
   ]
  },
  {
   "cell_type": "markdown",
   "metadata": {},
   "source": [
    "<p>Let's observe HAT-P-11 with the <a href=\"https://www.apo.nmsu.edu/arc35m/Instruments/ARCTIC/\">ARCTIC instrument</a> on APO's 3.5m telescope."
   ]
  },
  {
   "cell_type": "code",
   "execution_count": 6,
   "metadata": {},
   "outputs": [],
   "source": [
    "aperture_radius = 3.5 / 2 * u.m  # radius of 3.5m ARC telescope at APO\n",
    "aperture_area = np.pi * aperture_radius ** 2\n",
    "gain = 1.9  # the gain of this detector in e-/ADU"
   ]
  },
  {
   "cell_type": "markdown",
   "metadata": {},
   "source": [
    "## 4.  Create the bandpass"
   ]
  },
  {
   "cell_type": "markdown",
   "metadata": {},
   "source": [
    "For the bandpass we will use the SDSS r- and z- filters whose transmission functions we query from <a href=\"http://svo2.cab.inta-csic.es/theory/fps/index.php?mode=voservice\">SVO</a>. \n",
    "<p>To construct a bandpass from a file with <tt>synphot</tt>, use <a href=\"https://synphot.readthedocs.io/en/latest/api/synphot.spectrum.SpectralElement.html#synphot.spectrum\">SpectralElement</a>:</p>"
   ]
  },
  {
   "cell_type": "code",
   "execution_count": 7,
   "metadata": {
    "scrolled": true
   },
   "outputs": [
    {
     "data": {
      "image/png": "[encoded data removed]",
      "text/plain": [
       "<Figure size 432x288 with 1 Axes>"
      ]
     },
     "metadata": {
      "needs_background": "light"
     },
     "output_type": "display_data"
    }
   ],
   "source": [
    "sdss = ['rprime', 'zprime']  # only want r' and z' bands for now\n",
    "svo_sdss_link = 'http://svo2.cab.inta-csic.es/theory/fps' + \\\n",
    "                 '/getdata.php?format=ascii&id=SLOAN/SDSS.'\n",
    "\n",
    "bandpasses = {}\n",
    "for band in sdss:\n",
    "    local_path = download_file(svo_sdss_link + band + '_filter')\n",
    "    bp = SpectralElement.from_file(local_path)\n",
    "    bandpasses[band] = bp\n",
    "    \n",
    "    plt.plot(bp.waveset, bp(bp.waveset), label=band)\n",
    "plt.legend(loc='lower right')\n",
    "plt.xlim(3000, 14000)\n",
    "plt.show()"
   ]
  },
  {
   "cell_type": "markdown",
   "metadata": {},
   "source": [
    "<a id=\"atmosphere\"></a>\n",
    "## 5. Model the attenuation by the atmosphere"
   ]
  },
  {
   "cell_type": "markdown",
   "metadata": {},
   "source": [
    "Model the sky by querying results from the <a href=\"http://etimecalret-001.eso.org/observing/etc/bin/gen/form?INS.MODE=swspectr+INS.NAME=SKYCALC\">SkyCalc Sky Model Calculator</a>:"
   ]
  },
  {
   "cell_type": "code",
   "execution_count": 14,
   "metadata": {},
   "outputs": [
    {
     "name": "stdout",
     "output_type": "stream",
     "text": [
      "{'airmass': '1.0', 'pwv_mode': 'pwv', 'season': '0', 'time': '0', 'pwv': '3.5', 'msolflux': '130.0', 'incl_moon': 'Y', 'moon_sun_sep': '90.0', 'moon_target_sep': '45.0', 'moon_alt': '45.0', 'moon_earth_dist': '1.0', 'incl_starlight': 'Y', 'incl_zodiacal': 'Y', 'ecl_lon': '135.0', 'ecl_lat': '90.0', 'incl_loweratm': 'Y', 'incl_upperatm': 'Y', 'incl_airglow': 'Y', 'incl_therm': 'N', 'therm_t1': '0.0', 'therm_e1': '0.0', 'therm_t2': '0.0', 'therm_e2': '0.0', 'therm_t3': '0.0', 'therm_e3': '0.0', 'vacair': 'vac', 'wmin': '300.0', 'wmax': '2000.0', 'wgrid_mode': 'fixed_wavelength_step', 'wdelta': '0.1', 'wres': '20000', 'lsf_type': 'none', 'lsf_gauss_fwhm': '5.0', 'lsf_boxcar_fwhm': '5.0', 'observatory': '2640'}\n"
     ]
    },
    {
     "ename": "JSONDecodeError",
     "evalue": "Expecting value: line 1 column 1 (char 0)",
     "output_type": "error",
     "traceback": [
      "\u001b[0;31m---------------------------------------------------------------------------\u001b[0m",
      "\u001b[0;31mJSONDecodeError\u001b[0m                           Traceback (most recent call last)",
      "\u001b[0;32m<ipython-input-14-105bf5b3284c>\u001b[0m in \u001b[0;36m<module>\u001b[0;34m\u001b[0m\n\u001b[1;32m     25\u001b[0m \u001b[0murl\u001b[0m \u001b[0;34m=\u001b[0m \u001b[0mserver\u001b[0m \u001b[0;34m+\u001b[0m \u001b[0;34m'/observing/etc/api/skycalc'\u001b[0m\u001b[0;34m\u001b[0m\u001b[0;34m\u001b[0m\u001b[0m\n\u001b[1;32m     26\u001b[0m \u001b[0mresponse\u001b[0m \u001b[0;34m=\u001b[0m \u001b[0mrequests\u001b[0m\u001b[0;34m.\u001b[0m\u001b[0mpost\u001b[0m\u001b[0;34m(\u001b[0m\u001b[0murl\u001b[0m\u001b[0;34m,\u001b[0m \u001b[0mdata\u001b[0m\u001b[0;34m=\u001b[0m\u001b[0mjson\u001b[0m\u001b[0;34m.\u001b[0m\u001b[0mdumps\u001b[0m\u001b[0;34m(\u001b[0m\u001b[0mparams\u001b[0m\u001b[0;34m)\u001b[0m\u001b[0;34m)\u001b[0m\u001b[0;34m\u001b[0m\u001b[0;34m\u001b[0m\u001b[0m\n\u001b[0;32m---> 27\u001b[0;31m \u001b[0mresults\u001b[0m \u001b[0;34m=\u001b[0m \u001b[0mjson\u001b[0m\u001b[0;34m.\u001b[0m\u001b[0mloads\u001b[0m\u001b[0;34m(\u001b[0m\u001b[0mresponse\u001b[0m\u001b[0;34m.\u001b[0m\u001b[0mtext\u001b[0m\u001b[0;34m)\u001b[0m\u001b[0;34m\u001b[0m\u001b[0;34m\u001b[0m\u001b[0m\n\u001b[0m\u001b[1;32m     28\u001b[0m \u001b[0;34m\u001b[0m\u001b[0m\n\u001b[1;32m     29\u001b[0m \u001b[0mstatus\u001b[0m \u001b[0;34m=\u001b[0m \u001b[0mresults\u001b[0m\u001b[0;34m[\u001b[0m\u001b[0;34m'status'\u001b[0m\u001b[0;34m]\u001b[0m\u001b[0;34m\u001b[0m\u001b[0;34m\u001b[0m\u001b[0m\n",
      "\u001b[0;32m~/anaconda3/lib/python3.7/json/__init__.py\u001b[0m in \u001b[0;36mloads\u001b[0;34m(s, encoding, cls, object_hook, parse_float, parse_int, parse_constant, object_pairs_hook, **kw)\u001b[0m\n\u001b[1;32m    346\u001b[0m             \u001b[0mparse_int\u001b[0m \u001b[0;32mis\u001b[0m \u001b[0;32mNone\u001b[0m \u001b[0;32mand\u001b[0m \u001b[0mparse_float\u001b[0m \u001b[0;32mis\u001b[0m \u001b[0;32mNone\u001b[0m \u001b[0;32mand\u001b[0m\u001b[0;34m\u001b[0m\u001b[0;34m\u001b[0m\u001b[0m\n\u001b[1;32m    347\u001b[0m             parse_constant is None and object_pairs_hook is None and not kw):\n\u001b[0;32m--> 348\u001b[0;31m         \u001b[0;32mreturn\u001b[0m \u001b[0m_default_decoder\u001b[0m\u001b[0;34m.\u001b[0m\u001b[0mdecode\u001b[0m\u001b[0;34m(\u001b[0m\u001b[0ms\u001b[0m\u001b[0;34m)\u001b[0m\u001b[0;34m\u001b[0m\u001b[0;34m\u001b[0m\u001b[0m\n\u001b[0m\u001b[1;32m    349\u001b[0m     \u001b[0;32mif\u001b[0m \u001b[0mcls\u001b[0m \u001b[0;32mis\u001b[0m \u001b[0;32mNone\u001b[0m\u001b[0;34m:\u001b[0m\u001b[0;34m\u001b[0m\u001b[0;34m\u001b[0m\u001b[0m\n\u001b[1;32m    350\u001b[0m         \u001b[0mcls\u001b[0m \u001b[0;34m=\u001b[0m \u001b[0mJSONDecoder\u001b[0m\u001b[0;34m\u001b[0m\u001b[0;34m\u001b[0m\u001b[0m\n",
      "\u001b[0;32m~/anaconda3/lib/python3.7/json/decoder.py\u001b[0m in \u001b[0;36mdecode\u001b[0;34m(self, s, _w)\u001b[0m\n\u001b[1;32m    335\u001b[0m \u001b[0;34m\u001b[0m\u001b[0m\n\u001b[1;32m    336\u001b[0m         \"\"\"\n\u001b[0;32m--> 337\u001b[0;31m         \u001b[0mobj\u001b[0m\u001b[0;34m,\u001b[0m \u001b[0mend\u001b[0m \u001b[0;34m=\u001b[0m \u001b[0mself\u001b[0m\u001b[0;34m.\u001b[0m\u001b[0mraw_decode\u001b[0m\u001b[0;34m(\u001b[0m\u001b[0ms\u001b[0m\u001b[0;34m,\u001b[0m \u001b[0midx\u001b[0m\u001b[0;34m=\u001b[0m\u001b[0m_w\u001b[0m\u001b[0;34m(\u001b[0m\u001b[0ms\u001b[0m\u001b[0;34m,\u001b[0m \u001b[0;36m0\u001b[0m\u001b[0;34m)\u001b[0m\u001b[0;34m.\u001b[0m\u001b[0mend\u001b[0m\u001b[0;34m(\u001b[0m\u001b[0;34m)\u001b[0m\u001b[0;34m)\u001b[0m\u001b[0;34m\u001b[0m\u001b[0;34m\u001b[0m\u001b[0m\n\u001b[0m\u001b[1;32m    338\u001b[0m         \u001b[0mend\u001b[0m \u001b[0;34m=\u001b[0m \u001b[0m_w\u001b[0m\u001b[0;34m(\u001b[0m\u001b[0ms\u001b[0m\u001b[0;34m,\u001b[0m \u001b[0mend\u001b[0m\u001b[0;34m)\u001b[0m\u001b[0;34m.\u001b[0m\u001b[0mend\u001b[0m\u001b[0;34m(\u001b[0m\u001b[0;34m)\u001b[0m\u001b[0;34m\u001b[0m\u001b[0;34m\u001b[0m\u001b[0m\n\u001b[1;32m    339\u001b[0m         \u001b[0;32mif\u001b[0m \u001b[0mend\u001b[0m \u001b[0;34m!=\u001b[0m \u001b[0mlen\u001b[0m\u001b[0;34m(\u001b[0m\u001b[0ms\u001b[0m\u001b[0;34m)\u001b[0m\u001b[0;34m:\u001b[0m\u001b[0;34m\u001b[0m\u001b[0;34m\u001b[0m\u001b[0m\n",
      "\u001b[0;32m~/anaconda3/lib/python3.7/json/decoder.py\u001b[0m in \u001b[0;36mraw_decode\u001b[0;34m(self, s, idx)\u001b[0m\n\u001b[1;32m    353\u001b[0m             \u001b[0mobj\u001b[0m\u001b[0;34m,\u001b[0m \u001b[0mend\u001b[0m \u001b[0;34m=\u001b[0m \u001b[0mself\u001b[0m\u001b[0;34m.\u001b[0m\u001b[0mscan_once\u001b[0m\u001b[0;34m(\u001b[0m\u001b[0ms\u001b[0m\u001b[0;34m,\u001b[0m \u001b[0midx\u001b[0m\u001b[0;34m)\u001b[0m\u001b[0;34m\u001b[0m\u001b[0;34m\u001b[0m\u001b[0m\n\u001b[1;32m    354\u001b[0m         \u001b[0;32mexcept\u001b[0m \u001b[0mStopIteration\u001b[0m \u001b[0;32mas\u001b[0m \u001b[0merr\u001b[0m\u001b[0;34m:\u001b[0m\u001b[0;34m\u001b[0m\u001b[0;34m\u001b[0m\u001b[0m\n\u001b[0;32m--> 355\u001b[0;31m             \u001b[0;32mraise\u001b[0m \u001b[0mJSONDecodeError\u001b[0m\u001b[0;34m(\u001b[0m\u001b[0;34m\"Expecting value\"\u001b[0m\u001b[0;34m,\u001b[0m \u001b[0ms\u001b[0m\u001b[0;34m,\u001b[0m \u001b[0merr\u001b[0m\u001b[0;34m.\u001b[0m\u001b[0mvalue\u001b[0m\u001b[0;34m)\u001b[0m \u001b[0;32mfrom\u001b[0m \u001b[0;32mNone\u001b[0m\u001b[0;34m\u001b[0m\u001b[0;34m\u001b[0m\u001b[0m\n\u001b[0m\u001b[1;32m    356\u001b[0m         \u001b[0;32mreturn\u001b[0m \u001b[0mobj\u001b[0m\u001b[0;34m,\u001b[0m \u001b[0mend\u001b[0m\u001b[0;34m\u001b[0m\u001b[0;34m\u001b[0m\u001b[0m\n",
      "\u001b[0;31mJSONDecodeError\u001b[0m: Expecting value: line 1 column 1 (char 0)"
     ]
    }
   ],
   "source": [
    "import json\n",
    "import requests\n",
    "\n",
    "# SkyCalc recognizes Cerro Paranal by its id number 2460, which we \n",
    "# got from the skycalc_cli source code\n",
    "paranal_id = '2640'\n",
    "\n",
    "# Set up parameters for the observing night in the format that skycalc_cli would use\n",
    "params_path = download_file('https://www.eso.org/observing/etc/' + \n",
    "                            'doc/skycalc/skycalc_defaults.txt')\n",
    "params = {}\n",
    "with open(params_path) as o:\n",
    "    for row in o.readlines():\n",
    "        columns = row.split(':')\n",
    "        columns = [column.strip() for column in columns]\n",
    "        key, value = columns\n",
    "        params[key] = value\n",
    "        \n",
    "        if key == \"observatory\":\n",
    "            params['observatory'] = paranal_id\n",
    "\n",
    "print(params)\n",
    "        \n",
    "# Use the bit from skycalc_cli which queries from the SkyCalc Sky Model\n",
    "server = 'http://etimecalret-001.eso.org'\n",
    "url = server + '/observing/etc/api/skycalc'\n",
    "response = requests.post(url, data=json.dumps(params))\n",
    "results = json.loads(response.text)\n",
    "\n",
    "status = results['status']\n",
    "tmpdir = results['tmpdir']\n",
    "tmpurl = server + '/observing/etc/tmp/' + \\\n",
    "         tmpdir + '/skytable.fits'\n",
    "\n",
    "if status == 'success':\n",
    "    try: \n",
    "        response = requests.get(tmpurl, stream=True)\n",
    "        data = response.content\n",
    "    except requests.exceptions.RequestException as e:\n",
    "        print(e, 'could not retrieve FITS data from server')\n",
    "else:\n",
    "    print('HTML request failed')"
   ]
  },
  {
   "cell_type": "markdown",
   "metadata": {},
   "source": [
    "The following cells show how to simulate an atmospheric transmission profile at a given site and time of year. We use <a href=\"https://arxiv.org/abs/1806.09701\">`pwv_kpno`</a>, a package that downloads data collected by SuomiNet on the precipitable water vapor in the atmosphere on a given night at the given location, and uses them to calculate the transmission as a function of wavelength. The list of sites from which data is collected can be seen <a href=\"https://www.suominet.ucar.edu/\">here</a>.\n",
    "\n",
    "This requires versions > 1.0.1 of `pwv_kpno`."
   ]
  },
  {
   "cell_type": "markdown",
   "metadata": {},
   "source": [
    "The next cell demonstrates how to configure a `pwv_kpno` observation site other than the default (aka Kitt Peak). Once this cell has been ran, it does not need to be ran again."
   ]
  },
  {
   "cell_type": "code",
   "execution_count": 9,
   "metadata": {},
   "outputs": [
    {
     "data": {
      "text/plain": [
       "[2018]"
      ]
     },
     "execution_count": 9,
     "metadata": {},
     "output_type": "execute_result"
    }
   ],
   "source": [
    "from pwv_kpno.package_settings import ConfigBuilder, settings\n",
    "from pwv_kpno import pwv_atm\n",
    "from datetime import datetime\n",
    "import pytz\n",
    "import os\n",
    "\n",
    "if not os.path.isfile('./apache_point.ecsv'):\n",
    "    # configure the new observation site\n",
    "    new_config = ConfigBuilder(\n",
    "                               site_name = \"apache_point\",\n",
    "                               primary_rec=\"P027\",  # the suominet receiver nearest APO\n",
    "                               sup_rec = []\n",
    "                              )\n",
    "    new_config.save_to_ecsv('./apache_point.ecsv')\n",
    "    settings.import_site_config('./apache_point.ecsv')\n",
    "\n",
    "# change site from KPNO to APO\n",
    "settings.set_site('apache_point')\n",
    "\n",
    "# download data from SuomiNet from year observation was taken\n",
    "pwv_atm.update_models(years=[2018])"
   ]
  },
  {
   "cell_type": "markdown",
   "metadata": {},
   "source": [
    "Then we combine with `synphot` so we can convolve the atmospheric effects with other parts of the observation:"
   ]
  },
  {
   "cell_type": "code",
   "execution_count": 10,
   "metadata": {},
   "outputs": [
    {
     "data": {
      "image/png": "[encoded data removed]",
      "text/plain": [
       "<Figure size 432x288 with 1 Axes>"
      ]
     },
     "metadata": {
      "needs_background": "light"
     },
     "output_type": "display_data"
    }
   ],
   "source": [
    "obsv_date = datetime(year=2018, month=5, day=15,  # set the date of observation, let's say mid-May\n",
    "                     tzinfo = pytz.utc)\n",
    "transmission = pwv_atm.trans_for_date(date=obsv_date, airmass=1.5)  # get the transmission function\n",
    "\n",
    "atmosphere = SpectralElement(Empirical1D,\n",
    "                             points=transmission['wavelength'],\n",
    "                             lookup_table=transmission['transmission'])\n",
    "atmosphere.plot()"
   ]
  },
  {
   "cell_type": "markdown",
   "metadata": {},
   "source": [
    "<a id=\"qe\"></a>\n",
    "## 6. Model the affect of the CCD's quantum efficiency on the spectrum"
   ]
  },
  {
   "cell_type": "markdown",
   "metadata": {},
   "source": [
    "For this we use the values in the table found in section 3.5 on <a href=\"https://www.apo.nmsu.edu/arc35m/Instruments/ARCTIC/#3p5\">this page</a>."
   ]
  },
  {
   "cell_type": "code",
   "execution_count": 11,
   "metadata": {},
   "outputs": [
    {
     "data": {
      "image/png": "[encoded data removed]",
      "text/plain": [
       "<Figure size 432x288 with 1 Axes>"
      ]
     },
     "metadata": {
      "needs_background": "light"
     },
     "output_type": "display_data"
    }
   ],
   "source": [
    "quantum_efficiency = SpectralElement.from_file('ccd_QE.csv', wave_unit=\"nm\")\n",
    "quantum_efficiency = quantum_efficiency / 100  # convert percentages to decimals\n",
    "\n",
    "quantum_efficiency.plot(left=3000, right=14000)"
   ]
  },
  {
   "cell_type": "markdown",
   "metadata": {},
   "source": [
    "<a id=\"observation\"></a>\n",
    "## 7. Combine all of the effects and \"observe\""
   ]
  },
  {
   "cell_type": "markdown",
   "metadata": {},
   "source": [
    "Once we have all of the effects on the source spectrum set, we can combine them together by simply multiplying the SpectralElement objects:"
   ]
  },
  {
   "cell_type": "code",
   "execution_count": 12,
   "metadata": {},
   "outputs": [
    {
     "data": {
      "image/png": "[encoded data removed]",
      "text/plain": [
       "<Figure size 432x288 with 1 Axes>"
      ]
     },
     "metadata": {
      "needs_background": "light"
     },
     "output_type": "display_data"
    }
   ],
   "source": [
    "bp_atmos_qe = {} # setting up a dictionary for the different SDSS bands\n",
    "for band in sdss:\n",
    "    bp_atmos_qe[band] = bandpasses[band] * atmosphere * quantum_efficiency\n",
    "    \n",
    "bp_atmos_qe['rprime'].plot(left=3000, right=14000)"
   ]
  },
  {
   "cell_type": "markdown",
   "metadata": {},
   "source": [
    "Finally, we convolve the source spectrum with all of these effects using <tt>synphot</tt>'s <a href=\"https://synphot.readthedocs.io/en/latest/synphot/observation.html\">Observation</a>:"
   ]
  },
  {
   "cell_type": "code",
   "execution_count": 13,
   "metadata": {},
   "outputs": [],
   "source": [
    "band = 'rprime'  # only want to know about the r' band\n",
    "\n",
    "observation = Observation(photlam_hatp11, bp_atmos_qe[band])"
   ]
  },
  {
   "cell_type": "markdown",
   "metadata": {},
   "source": [
    "<a id=\"counts\"></a>\n",
    "## 8. Compute the count rate and total counts"
   ]
  },
  {
   "cell_type": "markdown",
   "metadata": {},
   "source": [
    "To get the expected count rate for a specific collecting area, use the <a href=\"https://synphot.readthedocs.io/en/latest/api/synphot.observation.Observation.html#synphot.observation.Observation.countrate\">countrate()</a> method on the observation object: "
   ]
  },
  {
   "cell_type": "code",
   "execution_count": 14,
   "metadata": {},
   "outputs": [],
   "source": [
    "countrate = observation.countrate(area=aperture_area) / gain"
   ]
  },
  {
   "cell_type": "markdown",
   "metadata": {},
   "source": [
    "How many counts can we expect in a 10s exposure?"
   ]
  },
  {
   "cell_type": "code",
   "execution_count": 15,
   "metadata": {},
   "outputs": [
    {
     "name": "stdout",
     "output_type": "stream",
     "text": [
      "HAT-P-11 counts in the r-band, 10 s exposure:\n",
      "44209346 cts\n"
     ]
    }
   ],
   "source": [
    "counts_hatp11 = countrate * 10 * u.s\n",
    "\n",
    "print(\"HAT-P-11 counts in the r-band, 10 s exposure:\")\n",
    "print(int(counts_hatp11.value), \"cts\")"
   ]
  },
  {
   "cell_type": "markdown",
   "metadata": {},
   "source": [
    "<a id=\"trappist1\"></a>\n",
    "## 9. Another example, this time with <a href=\"https://en.wikipedia.org/wiki/TRAPPIST-1\">TRAPPIST-1</a>"
   ]
  },
  {
   "cell_type": "markdown",
   "metadata": {
    "collapsed": true
   },
   "source": [
    "(using the same instrument and telescope)"
   ]
  },
  {
   "cell_type": "code",
   "execution_count": 16,
   "metadata": {},
   "outputs": [],
   "source": [
    "T_eff = 2600  # approx temperature of trappist-1 [K], Gillon 2017\n",
    "\n",
    "url = ('ftp://phoenix.astro.physik.uni-goettingen.de/v2.0/HiResFITS/'\n",
    "       'PHOENIX-ACES-AGSS-COND-2011/Z-0.0/lte{T_eff:05d}-{log_g:1.2f}-0.0.PHOENIX-'\n",
    "       'ACES-AGSS-COND-2011-HiRes.fits').format(T_eff=T_eff, log_g=4.5)\n",
    "# Unit from PHOENIX model file:\n",
    "flux = fits.getdata(url) * (u.erg / u.s / u.cm ** 2 / u.cm)\n",
    "\n",
    "wavelength_url = ('ftp://phoenix.astro.physik.uni-goettingen.de/v2.0/HiResFITS/'\n",
    "                  'WAVE_PHOENIX-ACES-AGSS-COND-2011.fits')\n",
    "wavelengths = fits.getdata(wavelength_url) * u.Angstrom"
   ]
  },
  {
   "cell_type": "markdown",
   "metadata": {},
   "source": [
    "Unfortunately Gaia does not have all the parameters we need for TRAPPIST-1, so we use the values cited in <a href=\"https://arxiv.org/pdf/1703.01424.pdf\">Gillon 2017</a>:"
   ]
  },
  {
   "cell_type": "code",
   "execution_count": 20,
   "metadata": {
    "scrolled": true
   },
   "outputs": [
    {
     "data": {
      "image/png": "[encoded data removed]",
      "text/plain": [
       "<Figure size 432x288 with 1 Axes>"
      ]
     },
     "metadata": {
      "needs_background": "light"
     },
     "output_type": "display_data"
    }
   ],
   "source": [
    "photlam_trappist1 = SourceSpectrum(Empirical1D,\n",
    "                                points=wavelengths, lookup_table=flux)\n",
    "\n",
    "# Scale the flux to get the value at Earth\n",
    "stellar_radius = 0.117 * u.R_sun  # radius of trappist-1 in solar units\n",
    "distance = 12.1 * u.pc  # distance to trappist-1 in parsecs\n",
    "photlam_trappist1 = photlam_trappist1 * float(stellar_radius / distance) ** 2 / np.pi\n",
    "\n",
    "photlam_trappist1.plot(flux_unit='Jy', left=0, right=60000)"
   ]
  },
  {
   "cell_type": "markdown",
   "metadata": {},
   "source": [
    "This time I just want to know about observations in the z-band:"
   ]
  },
  {
   "cell_type": "code",
   "execution_count": 31,
   "metadata": {},
   "outputs": [
    {
     "name": "stdout",
     "output_type": "stream",
     "text": [
      "TRAPPIST-1 counts in the z-band, 10 s exposure:\n",
      "306440 cts\n"
     ]
    }
   ],
   "source": [
    "band = 'zprime'\n",
    "\n",
    "observation = Observation(photlam_trappist1, bp_atmos_qe[band])\n",
    "\n",
    "countrate = observation.countrate(area=aperture_area) / gain\n",
    "counts_trappist1 = countrate * 10 * u.s\n",
    "\n",
    "print(\"TRAPPIST-1 counts in the z-band, 10 s exposure:\")\n",
    "print(int(counts_trappist1.value), \"cts\")"
   ]
  },
  {
   "cell_type": "markdown",
   "metadata": {},
   "source": [
    "## 10. Predicting count rates of the same stars, this time observed by a space-based telescope"
   ]
  },
  {
   "cell_type": "markdown",
   "metadata": {},
   "source": [
    "The space telescope we will use as the example is <a href=\"https://en.wikipedia.org/wiki/Kepler_space_telescope\">Kepler</a>.\n",
    "\n",
    "First query Kepler's response function, which includes both the bandpass and the quantum efficiency:"
   ]
  },
  {
   "cell_type": "code",
   "execution_count": 22,
   "metadata": {},
   "outputs": [
    {
     "data": {
      "image/png": "[encoded data removed]",
      "text/plain": [
       "<Figure size 432x288 with 1 Axes>"
      ]
     },
     "metadata": {
      "needs_background": "light"
     },
     "output_type": "display_data"
    }
   ],
   "source": [
    "kepler_response_path = download_file('https://keplergo.arc.nasa.gov/kepler_response_hires1.txt')\n",
    "kepler_response = SpectralElement.from_file(kepler_response_path, wave_unit=u.nm)\n",
    "kepler_response.plot()"
   ]
  },
  {
   "cell_type": "markdown",
   "metadata": {},
   "source": [
    "Create the observation object. Since Kepler is a space-based telescope, we do not need to convolve with the atmospheric transmission function:"
   ]
  },
  {
   "cell_type": "code",
   "execution_count": 30,
   "metadata": {},
   "outputs": [],
   "source": [
    "stars = {'hatp11': {'spectrum': photlam_hatp11},\n",
    "         'trappist1': {'spectrum': photlam_trappist1}\n",
    "        }\n",
    "\n",
    "for star in stars.keys():\n",
    "    stars[star]['observation'] = Observation(stars[star]['spectrum'], \n",
    "                                  kepler_response,\n",
    "                                  binset=kepler_response.waveset,\n",
    "                                  force='taper')"
   ]
  },
  {
   "cell_type": "markdown",
   "metadata": {},
   "source": [
    "Compute the countrates for the two stars:"
   ]
  },
  {
   "cell_type": "code",
   "execution_count": 29,
   "metadata": {},
   "outputs": [
    {
     "name": "stdout",
     "output_type": "stream",
     "text": [
      "synphot count rates:\n",
      "\t HAT-P-11: 2.5 million e-/s\n",
      "\t TRAPPIST-1 6.5 thousand e-/s\n"
     ]
    }
   ],
   "source": [
    "kepler_area = np.pi * (1.4 * u.m / 2) ** 2  # area of Kepler's primary mirror\n",
    "\n",
    "for star in stars.keys():\n",
    "    stars[star]['countrate'] = stars[star]['observation'].countrate(area=kepler_area)\n",
    "    \n",
    "print('synphot count rates:')\n",
    "print('\\t HAT-P-11:', round(stars['hatp11']['countrate'].value / 1e6, 1), 'million e-/s')\n",
    "print('\\t TRAPPIST-1', round(stars['trappist1']['countrate'].value / 1e3, 1), 'thousand e-/s')"
   ]
  },
  {
   "cell_type": "markdown",
   "metadata": {},
   "source": [
    "<a id=\"compare\"></a>\n",
    "## 11. Comparing simulated counts to observed counts"
   ]
  },
  {
   "cell_type": "markdown",
   "metadata": {},
   "source": [
    "We know from real observations (with AGILE on APO's 3.5m telescope and with Kepler) that the actual count values for these stars taken on certain dates are:"
   ]
  },
  {
   "cell_type": "code",
   "execution_count": 25,
   "metadata": {},
   "outputs": [],
   "source": [
    "hatp11_r_apo = 34000000\n",
    "hatp11_kepler = 2800000\n",
    "trappist1_z_apo = 203000\n",
    "trappist1_kepler = 5700"
   ]
  },
  {
   "cell_type": "code",
   "execution_count": 26,
   "metadata": {},
   "outputs": [
    {
     "name": "stdout",
     "output_type": "stream",
     "text": [
      "Ground-based counts at Apache Point Observatory:\n",
      "\t HAT-P-11 in r-band: 34 million counts\n",
      "\t TRAPPIST-1 in z-band: 203 thousand counts\n",
      "Space-based count rates with Kepler:\n",
      "\t HAT-P-11: 2.8 million e-/s\n",
      "\t TRAPPIST-1 5.7 thousand e-/s\n"
     ]
    }
   ],
   "source": [
    "print('Ground-based counts at Apache Point Observatory:')\n",
    "print('\\t HAT-P-11 in r-band:', int(hatp11_r_apo / 1e6), 'million counts')\n",
    "print('\\t TRAPPIST-1 in z-band:', int(trappist1_z_apo / 1e3), 'thousand counts')\n",
    "print('Space-based count rates with Kepler:')\n",
    "print('\\t HAT-P-11:', round(hatp11_kepler / 1e6, 1), 'million e-/s')\n",
    "print('\\t TRAPPIST-1', round(trappist1_kepler / 1e3, 1), 'thousand e-/s')"
   ]
  },
  {
   "cell_type": "markdown",
   "metadata": {},
   "source": [
    "Comparing our `synphot` values to the observed values on a 1-1 line:"
   ]
  },
  {
   "cell_type": "code",
   "execution_count": 27,
   "metadata": {},
   "outputs": [
    {
     "data": {
      "text/plain": [
       "<matplotlib.legend.Legend at 0xb3045ab70>"
      ]
     },
     "execution_count": 27,
     "metadata": {},
     "output_type": "execute_result"
    },
    {
     "data": {
      "image/png": "[encoded data removed]",
      "text/plain": [
       "<Figure size 648x648 with 1 Axes>"
      ]
     },
     "metadata": {
      "needs_background": "light"
     },
     "output_type": "display_data"
    }
   ],
   "source": [
    "fig = plt.figure(figsize=(9, 9))\n",
    "\n",
    "plt.scatter(hatp11_r_apo, counts_hatp11,\n",
    "            color='b', s=100, label=\"HAT-P-11, ground\")\n",
    "plt.scatter(hatp11_kepler, stars['hatp11']['countrate'],\n",
    "            color='b', marker= '^', s=100, label=\"HAT-P-11, space\")\n",
    "plt.scatter(trappist1_z_apo, counts_trappist1,\n",
    "            color='r', s=100, label='TRAPPIST-1, ground')\n",
    "plt.scatter(trappist1_kepler, stars['trappist1']['countrate'],\n",
    "            color='r', marker= '^', s=100, label='TRAPPIST-1, space')\n",
    "\n",
    "# one-to-one line\n",
    "plt.plot(np.linspace(1e3, 1e8, 20), np.linspace(1e3, 1e8, 20), color='black')\n",
    "\n",
    "plt.xscale('log')\n",
    "plt.yscale('log')\n",
    "\n",
    "plt.ylabel('synphot counts', size='14')\n",
    "plt.xlabel('observed counts', size='14')\n",
    "\n",
    "plt.legend()"
   ]
  }
 ],
 "metadata": {
  "anaconda-cloud": {},
  "kernelspec": {
   "display_name": "Python 3",
   "language": "python",
   "name": "python3"
  },
  "language_info": {
   "codemirror_mode": {
    "name": "ipython",
    "version": 3
   },
   "file_extension": ".py",
   "mimetype": "text/x-python",
   "name": "python",
   "nbconvert_exporter": "python",
   "pygments_lexer": "ipython3",
   "version": "3.7.1"
  }
 },
 "nbformat": 4,
 "nbformat_minor": 1
}
