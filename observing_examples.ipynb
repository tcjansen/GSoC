{
 "cells": [
  {
   "cell_type": "markdown",
   "metadata": {},
   "source": [
    "# <tt>synphot</tt>: Predicting count rates with ground-based and space-based telescopes"
   ]
  },
  {
   "cell_type": "markdown",
   "metadata": {},
   "source": [
    "## Authors\n",
    "Tiffany Jansen, Brett Morris, Pey Lian Lim, & Erik Tollerud"
   ]
  },
  {
   "cell_type": "markdown",
   "metadata": {},
   "source": [
    "## Objectives\n",
    "<ul>\n",
    "<li>Query data directly from other websites using `astropy.coordinates.Skycoord`, `astroquery.Gaia`, `astropy.io`, and `astropy.utils`</li>\n",
    "<li>Construct a source spectrum using `synphot.SourceSpectrum`</li>\n",
    "<li>Simulate bandpass throughput with `synphot.SpectralElement`</li>\n",
    "<li>Model effects on the source spectrum such as atmospheric transmission and quantum efficiency with `synphot.SpectralElement`</li>\n",
    "<li>Combine all of these effects into a simulated observation with `synphot.Observation`</li>\n",
    "<li>Compute the expected count rate from this observation with `synphot`'s `countrate()` function\n",
    "</ul>"
   ]
  },
  {
   "cell_type": "markdown",
   "metadata": {},
   "source": [
    "## Keywords\n",
    "synphot, synthetic photometry, astropy, astroquery, astronomy"
   ]
  },
  {
   "cell_type": "markdown",
   "metadata": {},
   "source": [
    "## Summary\n",
    "In this tutorial we will:\n",
    "<ol>\n",
    "<li><a href=\"#query_properties\">Query the properties of our target star</a> (HAT-P-11 to start)</li>\n",
    "<li><a href=\"#phoenix\">Download model spectra from PHOENIX</a></li>\n",
    "<li><a href=\"#source_spectrum\">Construct a source spectrum</a></li>\n",
    "<li><a href=\"#bandpass\">Create the bandpass of observation</a></li>\n",
    "<li><a href=\"#atmosphere\">Model attenuation by the atmosphere</a></li>\n",
    "<li><a href=\"#qe\">Model the effect of the quantum efficiency</a></li>\n",
    "<li><a href=\"#observation\">Combine all of the effects and \"observe\"</a></li>\n",
    "<li><a href=\"#counts\">Compute the count rate and total counts</a></li>\n",
    "<li><a href=\"#trappist1\">Look at another example, this time with TRAPPIST-1</a></li>\n",
    "<li><a href=\"#kepler\">Simulate observations with a space-based telescope</a></li>\n",
    "<li><a href=\"#compare\">Compare simulated counts to observed counts</a></li>\n",
    "</ol>"
   ]
  },
  {
   "cell_type": "code",
   "execution_count": 27,
   "metadata": {
    "collapsed": false
   },
   "outputs": [],
   "source": [
    "%matplotlib inline\n",
    "import matplotlib.pyplot as plt\n",
    "import numpy as np\n",
    "import requests\n",
    "import json\n",
    "\n",
    "import astropy.units as u\n",
    "from astropy.io import fits\n",
    "from astropy.utils.data import download_file\n",
    "from astropy.coordinates import SkyCoord\n",
    "\n",
    "from astroquery.gaia import Gaia\n",
    "\n",
    "from synphot import units\n",
    "from synphot.models import Empirical1D\n",
    "from synphot.spectrum import SourceSpectrum, SpectralElement\n",
    "from synphot.observation import Observation"
   ]
  },
  {
   "cell_type": "markdown",
   "metadata": {},
   "source": [
    "<a id='query_properties'></a>\n",
    "## 1. Query the properties of HAT-P-11"
   ]
  },
  {
   "cell_type": "markdown",
   "metadata": {},
   "source": [
    "First we get the star's parameters using <a href=\"https://astroquery.readthedocs.io/en/latest/\">astroquery's</a> <a href=\"https://astroquery.readthedocs.io/en/latest/gaia/gaia.html\">Gaia query</a>: "
   ]
  },
  {
   "cell_type": "code",
   "execution_count": 28,
   "metadata": {
    "collapsed": false
   },
   "outputs": [
    {
     "name": "stdout",
     "output_type": "stream",
     "text": [
      "Query finished.\n"
     ]
    },
    {
     "name": "stderr",
     "output_type": "stream",
     "text": [
      "WARNING: W35: None:5:0: W35: 'value' attribute required for INFO elements [astropy.io.votable.tree]\n",
      "WARNING: W35: None:6:0: W35: 'value' attribute required for INFO elements [astropy.io.votable.tree]\n",
      "WARNING: W35: None:7:0: W35: 'value' attribute required for INFO elements [astropy.io.votable.tree]\n",
      "WARNING: W35: None:8:0: W35: 'value' attribute required for INFO elements [astropy.io.votable.tree]\n",
      "WARNING: W35: None:10:0: W35: 'value' attribute required for INFO elements [astropy.io.votable.tree]\n",
      "WARNING: W27: None:11:0: W27: COOSYS deprecated in VOTable 1.2 [astropy.io.votable.tree]\n",
      "WARNING: W06: None:48:0: W06: Invalid UCD 'arith.ratio': Secondary word 'arith.ratio' is not valid as a primary word [astropy.io.votable.tree]\n",
      "WARNING: W50: None:51:0: W50: Invalid unit string 'mas.yr**-1' [astropy.io.votable.tree]\n",
      "WARNING: W50: None:54:0: W50: Invalid unit string 'mas.yr**-1' [astropy.io.votable.tree]\n",
      "WARNING: W50: None:57:0: W50: Invalid unit string 'mas.yr**-1' [astropy.io.votable.tree]\n",
      "WARNING: W50: None:60:0: W50: Invalid unit string 'mas.yr**-1' [astropy.io.votable.tree]\n",
      "WARNING: W50: None:123:0: W50: Invalid unit string 'mas**-2' [astropy.io.votable.tree]\n",
      "WARNING: W50: None:126:0: W50: Invalid unit string 'um**-1' [astropy.io.votable.tree]\n",
      "WARNING: W06: None:129:0: W06: Invalid UCD 'em.wavenumber;stat.error': Primary word 'stat.error' is not valid as a secondary word [astropy.io.votable.tree]\n",
      "WARNING: W50: None:129:0: W50: Invalid unit string 'um**-1' [astropy.io.votable.tree]\n",
      "WARNING: W06: None:141:0: W06: Invalid UCD 'pos.errorEllipse;stat.max': Secondary word 'pos.errorEllipse' is not valid as a primary word [astropy.io.votable.tree]\n",
      "WARNING: W50: None:156:0: W50: Invalid unit string ''electron'.s**-1' [astropy.io.votable.tree]\n",
      "WARNING: W50: None:159:0: W50: Invalid unit string ''electron'.s**-1' [astropy.io.votable.tree]\n",
      "WARNING: W06: None:162:0: W06: Invalid UCD 'arith.ratio': Secondary word 'arith.ratio' is not valid as a primary word [astropy.io.votable.tree]\n",
      "WARNING: W50: None:171:0: W50: Invalid unit string ''electron'.s**-1' (suppressing further warnings of this type...) [astropy.io.votable.tree]\n",
      "WARNING: W06: None:177:0: W06: Invalid UCD 'arith.ratio': Secondary word 'arith.ratio' is not valid as a primary word [astropy.io.votable.tree]\n",
      "WARNING: W06: None:192:0: W06: Invalid UCD 'arith.ratio': Secondary word 'arith.ratio' is not valid as a primary word [astropy.io.votable.tree]\n",
      "WARNING: W06: None:204:0: W06: Invalid UCD 'phot.color': Unknown word 'phot.color' [astropy.io.votable.tree]\n",
      "WARNING: W06: None:207:0: W06: Invalid UCD 'phot.color': Unknown word 'phot.color' [astropy.io.votable.tree]\n",
      "WARNING: W06: None:210:0: W06: Invalid UCD 'phot.color': Unknown word 'phot.color' [astropy.io.votable.tree]\n",
      "WARNING: W06: None:282:0: W06: Invalid UCD 'phys.size.radius;stat.error': Primary word 'stat.error' is not valid as a secondary word (suppressing further warnings of this type...) [astropy.io.votable.tree]\n"
     ]
    }
   ],
   "source": [
    "ID = 'HAT-P-11'\n",
    "\n",
    "coord = SkyCoord.from_name(ID)\n",
    "width = u.Quantity(1, u.arcmin)  # width / height of search\n",
    "height = u.Quantity(1, u.arcmin)\n",
    "search_results = Gaia.query_object_async(coordinate=coord, width=width, height=height)\n",
    "\n",
    "# the queried star will be the one nearest to the given coordinates\n",
    "search_results.add_index('dist', unique=True)\n",
    "hatp11_info = search_results.loc['dist', min(search_results['dist'])]\n",
    "\n",
    "# now get the parameters\n",
    "stellar_radius = hatp11_info['radius_val'] * u.R_sun\n",
    "# divide 1 AU by parallax (arcseconds) to get distance in parsecs.\n",
    "# parallax is given in milliarcseconds, so multiply by 1000: \n",
    "distance = (1 / (hatp11_info['parallax']) * 1000) * u.pc\n",
    "T_eff = hatp11_info['teff_val']"
   ]
  },
  {
   "cell_type": "markdown",
   "metadata": {},
   "source": [
    "<a id=\"phoenix\"></a>\n",
    "## 2. Download a model spectrum for HAT-P-11 from <a href=\"http://phoenix.astro.physik.uni-goettingen.de/\">PHOENIX</a>:"
   ]
  },
  {
   "cell_type": "code",
   "execution_count": 29,
   "metadata": {
    "collapsed": true
   },
   "outputs": [],
   "source": [
    "T_eff = round(T_eff, -2)  # round to nearest 100 K\n",
    "\n",
    "url = ('ftp://phoenix.astro.physik.uni-goettingen.de/v2.0/HiResFITS/'\n",
    "       'PHOENIX-ACES-AGSS-COND-2011/Z-0.0/lte{T_eff:05d}-{log_g:1.2f}-0.0.PHOENIX-'\n",
    "       'ACES-AGSS-COND-2011-HiRes.fits').format(T_eff=int(T_eff), log_g=4.5)\n",
    "# Unit from PHOENIX model file:\n",
    "flux = fits.getdata(url) * (u.erg / u.s / u.cm ** 2 / u.cm)\n",
    "\n",
    "wavelength_url = ('ftp://phoenix.astro.physik.uni-goettingen.de/v2.0/HiResFITS/'\n",
    "                  'WAVE_PHOENIX-ACES-AGSS-COND-2011.fits')\n",
    "wavelengths = fits.getdata(wavelength_url) * u.Angstrom"
   ]
  },
  {
   "cell_type": "markdown",
   "metadata": {},
   "source": [
    "<a id=\"source_spectrum\"></a>\n",
    "## 3. Construct a `synphot` <a href=\"https://synphot.readthedocs.io/en/latest/synphot/spectrum.html#arrays\">source spectrum object</a> from the above arrays:"
   ]
  },
  {
   "cell_type": "code",
   "execution_count": 30,
   "metadata": {
    "collapsed": false
   },
   "outputs": [
    {
     "data": {
      "image/png": "[encoded data removed]",
      "text/plain": [
       "<Figure size 432x288 with 1 Axes>"
      ]
     },
     "metadata": {},
     "output_type": "display_data"
    }
   ],
   "source": [
    "photlam_hatp11 = SourceSpectrum(Empirical1D,\n",
    "                                points=wavelengths, lookup_table=flux)\n",
    "\n",
    "# Scale the flux to get the value at Earth\n",
    "photlam_hatp11 = photlam_hatp11 * float(stellar_radius / distance) ** 2 / np.pi\n",
    "\n",
    "photlam_hatp11.plot(flux_unit='Jy', left=0, right=60000)"
   ]
  },
  {
   "cell_type": "markdown",
   "metadata": {},
   "source": [
    "(for other methods of constructing source spectra with `synphot`, see the first bulleted list <a href=\"https://synphot.readthedocs.io/en/latest/synphot/spectrum.html#arrays\">here</a>) "
   ]
  },
  {
   "cell_type": "markdown",
   "metadata": {},
   "source": [
    "<a id=\"bandpass\"></a>\n",
    "## Now we will simulate the observation with a specific instrument"
   ]
  },
  {
   "cell_type": "markdown",
   "metadata": {},
   "source": [
    "<p>Let's observe HAT-P-11 with the <a href=\"https://www.apo.nmsu.edu/arc35m/Instruments/ARCTIC/\">ARCTIC instrument</a> on APO's 3.5m telescope."
   ]
  },
  {
   "cell_type": "code",
   "execution_count": 31,
   "metadata": {
    "collapsed": true
   },
   "outputs": [],
   "source": [
    "aperture_radius = 3.5 / 2 * u.m  # radius of 3.5m ARC telescope at APO\n",
    "aperture_area = np.pi * aperture_radius ** 2\n",
    "gain = 1.9  # the gain of this detector in e-/ADU"
   ]
  },
  {
   "cell_type": "markdown",
   "metadata": {},
   "source": [
    "## 4.  Create the bandpass"
   ]
  },
  {
   "cell_type": "markdown",
   "metadata": {},
   "source": [
    "For the bandpass we will use the SDSS r- and z- filters whose transmission functions we query from <a href=\"http://svo2.cab.inta-csic.es/theory/fps/index.php?mode=voservice\">SVO</a>. \n",
    "<p>To construct a bandpass from a file with <tt>synphot</tt>, use <a href=\"https://synphot.readthedocs.io/en/latest/api/synphot.spectrum.SpectralElement.html#synphot.spectrum\">SpectralElement</a>:</p>"
   ]
  },
  {
   "cell_type": "code",
   "execution_count": 32,
   "metadata": {
    "collapsed": false,
    "scrolled": true
   },
   "outputs": [
    {
     "data": {
      "image/png": "[encoded data removed]",
      "text/plain": [
       "<Figure size 432x288 with 1 Axes>"
      ]
     },
     "metadata": {},
     "output_type": "display_data"
    }
   ],
   "source": [
    "sdss = ['rprime', 'zprime']  # only want r' and z' bands for now\n",
    "svo_sdss_link = 'http://svo2.cab.inta-csic.es/theory/fps' + \\\n",
    "                 '/getdata.php?format=ascii&id=SLOAN/SDSS.'\n",
    "\n",
    "bandpasses = {}\n",
    "for band in sdss:\n",
    "    local_path = download_file(svo_sdss_link + band + '_filter')\n",
    "    bp = SpectralElement.from_file(local_path)\n",
    "    bandpasses[band] = bp\n",
    "    \n",
    "    plt.plot(bp.waveset, bp(bp.waveset), label=band)\n",
    "plt.legend(loc='lower right')\n",
    "plt.xlim(3000, 14000)\n",
    "plt.show()"
   ]
  },
  {
   "cell_type": "markdown",
   "metadata": {},
   "source": [
    "<a id=\"atmosphere\"></a>\n",
    "## 5. Model the attenuation by the atmosphere"
   ]
  },
  {
   "cell_type": "markdown",
   "metadata": {},
   "source": [
    "Model the sky by querying results from the <a href=\"http://etimecalret-001.eso.org/observing/etc/bin/gen/form?INS.MODE=swspectr+INS.NAME=SKYCALC\">SkyCalc Sky Model Calculator</a>:"
   ]
  },
  {
   "cell_type": "code",
   "execution_count": 33,
   "metadata": {
    "collapsed": false
   },
   "outputs": [],
   "source": [
    "# SkyCalc recognizes Cerro Paranal by its id number 2460, which we \n",
    "# got from the skycalc_cli source code\n",
    "paranal_id = '2640'\n",
    "\n",
    "# Use the default parameters from skycalc to set up the parameter dict\n",
    "params_path = download_file('http://www.eso.org/observing/etc/' + \\\n",
    "                                'doc/skycalc/skycalc_defaults.txt')        \n",
    "\n",
    "params = {}\n",
    "with open(params_path) as o:\n",
    "    for row in o.readlines():\n",
    "        columns = row.split(':')\n",
    "        columns = [column.strip() for column in columns]\n",
    "        key, value = columns\n",
    "        \n",
    "        # convert numbered values to floats/ints\n",
    "        try:\n",
    "            value = int(value)\n",
    "        except:\n",
    "            try:\n",
    "                value = float(value)\n",
    "            except:\n",
    "                pass\n",
    "        \n",
    "        params[key] = value\n",
    "        \n",
    "        if key == \"observatory\":\n",
    "            params['observatory'] = paranal_id\n",
    "            \n",
    "# edit the parameters to match your observation\n",
    "params['airmass'] = 1.5\n",
    "\n",
    "# Use the bit from skycalc_cli which queries from the SkyCalc Sky Model\n",
    "server = 'http://etimecalret-001.eso.org'\n",
    "url = server + '/observing/etc/api/skycalc'\n",
    "\n",
    "response = requests.post(url, data=json.dumps(params))\n",
    "results = json.loads(response.text)\n",
    "\n",
    "status = results['status']\n",
    "tmpdir = results['tmpdir']\n",
    "tmpurl = server + '/observing/etc/tmp/' + \\\n",
    "         tmpdir + '/skytable.fits'\n",
    "\n",
    "if status == 'success':\n",
    "    try: \n",
    "        response = requests.get(tmpurl, stream=True)\n",
    "        data = response.content\n",
    "    except requests.exceptions.RequestException as e:\n",
    "        print(e, 'could not retrieve FITS data from server')\n",
    "else:\n",
    "    print('HTML request failed', results)"
   ]
  },
  {
   "cell_type": "markdown",
   "metadata": {},
   "source": [
    "Write the data requested from the SkyCalc site to a fits file so it can be read in a human readable format:"
   ]
  },
  {
   "cell_type": "code",
   "execution_count": 35,
   "metadata": {
    "collapsed": false
   },
   "outputs": [],
   "source": [
    "with open('data.fits', 'wb') as f:\n",
    "    f.write(data)\n",
    "    \n",
    "hdu = fits.open('data.fits')\n",
    "trans_waves = hdu[1].data[\"LAM\"] * u.um  # wavelengths\n",
    "transmission = hdu[1].data[\"TRANS\"]"
   ]
  },
  {
   "cell_type": "markdown",
   "metadata": {},
   "source": [
    "### Then we combine with `synphot` so we can convolve the atmospheric effects with other parts of the observation:"
   ]
  },
  {
   "cell_type": "code",
   "execution_count": 9,
   "metadata": {
    "collapsed": false
   },
   "outputs": [
    {
     "data": {
      "image/png": "[encoded data removed]",
      "text/plain": [
       "<Figure size 432x288 with 1 Axes>"
      ]
     },
     "metadata": {},
     "output_type": "display_data"
    }
   ],
   "source": [
    "atmosphere = SpectralElement(Empirical1D,\n",
    "                             points=trans_waves,\n",
    "                             lookup_table=transmission)\n",
    "atmosphere.plot()"
   ]
  },
  {
   "cell_type": "markdown",
   "metadata": {},
   "source": [
    "<a id=\"qe\"></a>\n",
    "## 6. Model the affect of the CCD's quantum efficiency on the spectrum"
   ]
  },
  {
   "cell_type": "markdown",
   "metadata": {},
   "source": [
    "For this we use the values in the table found in section 3.5 on <a href=\"https://www.apo.nmsu.edu/arc35m/Instruments/ARCTIC/#3p5\">this page</a>."
   ]
  },
  {
   "cell_type": "code",
   "execution_count": 10,
   "metadata": {
    "collapsed": false
   },
   "outputs": [
    {
     "data": {
      "image/png": "[encoded data removed]",
      "text/plain": [
       "<Figure size 432x288 with 1 Axes>"
      ]
     },
     "metadata": {},
     "output_type": "display_data"
    }
   ],
   "source": [
    "quantum_efficiency = SpectralElement.from_file('ccd_QE.csv', wave_unit=\"nm\")\n",
    "quantum_efficiency = quantum_efficiency / 100  # convert percentages to decimals\n",
    "\n",
    "quantum_efficiency.plot(left=3000, right=14000)"
   ]
  },
  {
   "cell_type": "markdown",
   "metadata": {},
   "source": [
    "<a id=\"observation\"></a>\n",
    "## 7. Combine all of the effects and \"observe\""
   ]
  },
  {
   "cell_type": "markdown",
   "metadata": {},
   "source": [
    "Once we have all of the effects on the source spectrum set, we can combine them together by simply multiplying the SpectralElement objects:"
   ]
  },
  {
   "cell_type": "code",
   "execution_count": 11,
   "metadata": {
    "collapsed": false
   },
   "outputs": [
    {
     "data": {
      "image/png": "[encoded data removed]",
      "text/plain": [
       "<Figure size 432x288 with 1 Axes>"
      ]
     },
     "metadata": {},
     "output_type": "display_data"
    }
   ],
   "source": [
    "bp_atmos_qe = {} # setting up a dictionary for the different SDSS bands\n",
    "for band in sdss:\n",
    "    bp_atmos_qe[band] = bandpasses[band] * atmosphere * quantum_efficiency\n",
    "    \n",
    "bp_atmos_qe['rprime'].plot(left=3000, right=14000)"
   ]
  },
  {
   "cell_type": "markdown",
   "metadata": {},
   "source": [
    "Finally, we convolve the source spectrum with all of these effects using <tt>synphot</tt>'s <a href=\"https://synphot.readthedocs.io/en/latest/synphot/observation.html\">Observation</a>:"
   ]
  },
  {
   "cell_type": "code",
   "execution_count": 12,
   "metadata": {
    "collapsed": true
   },
   "outputs": [],
   "source": [
    "band = 'rprime'  # only want to know about the r' band\n",
    "\n",
    "observation = Observation(photlam_hatp11, bp_atmos_qe[band])"
   ]
  },
  {
   "cell_type": "markdown",
   "metadata": {},
   "source": [
    "<a id=\"counts\"></a>\n",
    "## 8. Compute the count rate and total counts"
   ]
  },
  {
   "cell_type": "markdown",
   "metadata": {},
   "source": [
    "To get the expected count rate for a specific collecting area, use the <a href=\"https://synphot.readthedocs.io/en/latest/api/synphot.observation.Observation.html#synphot.observation.Observation.countrate\">countrate()</a> method on the observation object: "
   ]
  },
  {
   "cell_type": "code",
   "execution_count": 13,
   "metadata": {
    "collapsed": true
   },
   "outputs": [],
   "source": [
    "countrate = observation.countrate(area=aperture_area) / gain"
   ]
  },
  {
   "cell_type": "markdown",
   "metadata": {},
   "source": [
    "How many counts can we expect in a 10s exposure?"
   ]
  },
  {
   "cell_type": "code",
   "execution_count": 14,
   "metadata": {
    "collapsed": false
   },
   "outputs": [
    {
     "name": "stdout",
     "output_type": "stream",
     "text": [
      "HAT-P-11 counts in the r-band, 10 s exposure:\n",
      "38353638 cts\n"
     ]
    }
   ],
   "source": [
    "counts_hatp11 = countrate * 10 * u.s\n",
    "\n",
    "print(\"HAT-P-11 counts in the r-band, 10 s exposure:\")\n",
    "print(int(counts_hatp11.value), \"cts\")"
   ]
  },
  {
   "cell_type": "markdown",
   "metadata": {},
   "source": [
    "<a id=\"trappist1\"></a>\n",
    "## 9. Another example, this time with <a href=\"https://en.wikipedia.org/wiki/TRAPPIST-1\">TRAPPIST-1</a>"
   ]
  },
  {
   "cell_type": "markdown",
   "metadata": {
    "collapsed": true
   },
   "source": [
    "(using the same instrument and telescope)"
   ]
  },
  {
   "cell_type": "code",
   "execution_count": 15,
   "metadata": {
    "collapsed": true
   },
   "outputs": [],
   "source": [
    "T_eff = 2600  # approx temperature of trappist-1 [K], Gillon 2017\n",
    "\n",
    "url = ('ftp://phoenix.astro.physik.uni-goettingen.de/v2.0/HiResFITS/'\n",
    "       'PHOENIX-ACES-AGSS-COND-2011/Z-0.0/lte{T_eff:05d}-{log_g:1.2f}-0.0.PHOENIX-'\n",
    "       'ACES-AGSS-COND-2011-HiRes.fits').format(T_eff=T_eff, log_g=4.5)\n",
    "# Unit from PHOENIX model file:\n",
    "flux = fits.getdata(url) * (u.erg / u.s / u.cm ** 2 / u.cm)\n",
    "\n",
    "wavelength_url = ('ftp://phoenix.astro.physik.uni-goettingen.de/v2.0/HiResFITS/'\n",
    "                  'WAVE_PHOENIX-ACES-AGSS-COND-2011.fits')\n",
    "wavelengths = fits.getdata(wavelength_url) * u.Angstrom"
   ]
  },
  {
   "cell_type": "markdown",
   "metadata": {},
   "source": [
    "Unfortunately Gaia does not have all the parameters we need for TRAPPIST-1, so we use the values cited in <a href=\"https://arxiv.org/pdf/1703.01424.pdf\">Gillon 2017</a>:"
   ]
  },
  {
   "cell_type": "code",
   "execution_count": 16,
   "metadata": {
    "collapsed": false,
    "scrolled": true
   },
   "outputs": [
    {
     "data": {
      "image/png": "[encoded data removed]",
      "text/plain": [
       "<Figure size 432x288 with 1 Axes>"
      ]
     },
     "metadata": {},
     "output_type": "display_data"
    }
   ],
   "source": [
    "photlam_trappist1 = SourceSpectrum(Empirical1D,\n",
    "                                points=wavelengths, lookup_table=flux)\n",
    "\n",
    "# Scale the flux to get the value at Earth\n",
    "stellar_radius = 0.117 * u.R_sun  # radius of trappist-1 in solar units\n",
    "distance = 12.1 * u.pc  # distance to trappist-1 in parsecs\n",
    "photlam_trappist1 = photlam_trappist1 * float(stellar_radius / distance) ** 2 / np.pi\n",
    "\n",
    "photlam_trappist1.plot(flux_unit='Jy', left=0, right=60000)"
   ]
  },
  {
   "cell_type": "markdown",
   "metadata": {},
   "source": [
    "This time I just want to know about observations in the z-band:"
   ]
  },
  {
   "cell_type": "code",
   "execution_count": 17,
   "metadata": {
    "collapsed": false
   },
   "outputs": [
    {
     "name": "stdout",
     "output_type": "stream",
     "text": [
      "TRAPPIST-1 counts in the z-band, 10 s exposure:\n",
      "306750 cts\n"
     ]
    }
   ],
   "source": [
    "band = 'zprime'\n",
    "\n",
    "observation = Observation(photlam_trappist1, bp_atmos_qe[band])\n",
    "\n",
    "countrate = observation.countrate(area=aperture_area) / gain\n",
    "counts_trappist1 = countrate * 10 * u.s\n",
    "\n",
    "print(\"TRAPPIST-1 counts in the z-band, 10 s exposure:\")\n",
    "print(int(counts_trappist1.value), \"cts\")"
   ]
  },
  {
   "cell_type": "markdown",
   "metadata": {},
   "source": [
    "## 10. Predicting photon counts of the same stars, this time observed by a space-based telescope"
   ]
  },
  {
   "cell_type": "markdown",
   "metadata": {},
   "source": [
    "The space telescope we will use as the example is <a href=\"https://en.wikipedia.org/wiki/Kepler_space_telescope\">Kepler</a>.\n",
    "\n",
    "First query Kepler's response function, which includes both the bandpass and the quantum efficiency:"
   ]
  },
  {
   "cell_type": "code",
   "execution_count": 18,
   "metadata": {
    "collapsed": false
   },
   "outputs": [
    {
     "data": {
      "image/png": "[encoded data removed]",
      "text/plain": [
       "<Figure size 432x288 with 1 Axes>"
      ]
     },
     "metadata": {},
     "output_type": "display_data"
    }
   ],
   "source": [
    "kepler_response_path = download_file('https://keplergo.arc.nasa.gov/kepler_response_hires1.txt')\n",
    "kepler_response = SpectralElement.from_file(kepler_response_path, wave_unit=u.nm)\n",
    "kepler_response.plot()"
   ]
  },
  {
   "cell_type": "markdown",
   "metadata": {},
   "source": [
    "Create the observation object. Since Kepler is a space-based telescope, we do not need to convolve with the atmospheric transmission function:"
   ]
  },
  {
   "cell_type": "code",
   "execution_count": 19,
   "metadata": {
    "collapsed": true
   },
   "outputs": [],
   "source": [
    "stars = {'hatp11': {'spectrum': photlam_hatp11},\n",
    "         'trappist1': {'spectrum': photlam_trappist1}\n",
    "        }\n",
    "\n",
    "for star in stars.keys():\n",
    "    stars[star]['observation'] = Observation(stars[star]['spectrum'], kepler_response)"
   ]
  },
  {
   "cell_type": "markdown",
   "metadata": {},
   "source": [
    "Compute the counts in a  for the two stars:"
   ]
  },
  {
   "cell_type": "code",
   "execution_count": 20,
   "metadata": {
    "collapsed": false
   },
   "outputs": [
    {
     "name": "stdout",
     "output_type": "stream",
     "text": [
      "synphot counts in 10s exposure:\n",
      "\t HAT-P-11: 24.7 million\n",
      "\t TRAPPIST-1 65.0 thousand\n"
     ]
    }
   ],
   "source": [
    "kepler_area = np.pi * (1.4 * u.m / 2) ** 2  # area of Kepler's primary mirror\n",
    "\n",
    "for star in stars.keys():\n",
    "    countrate = stars[star]['observation'].countrate(area=kepler_area)\n",
    "    stars[star]['counts'] = countrate * 10 * u.s\n",
    "    \n",
    "print('synphot counts in 10s exposure:')\n",
    "print('\\t HAT-P-11:', round(stars['hatp11']['counts'].value / 1e6, 1), 'million')\n",
    "print('\\t TRAPPIST-1', round(stars['trappist1']['counts'].value / 1e3, 1), 'thousand')"
   ]
  },
  {
   "cell_type": "markdown",
   "metadata": {},
   "source": [
    "<a id=\"compare\"></a>\n",
    "## 11. Comparing simulated counts to observed counts"
   ]
  },
  {
   "cell_type": "markdown",
   "metadata": {},
   "source": [
    "We know from real observations (with AGILE on APO's 3.5m telescope and with Kepler) that the actual count values for these stars taken on certain dates are:"
   ]
  },
  {
   "cell_type": "code",
   "execution_count": 21,
   "metadata": {
    "collapsed": true
   },
   "outputs": [],
   "source": [
    "hatp11_r_apo = 34000000\n",
    "hatp11_kepler = 28000000\n",
    "trappist1_z_apo = 203000\n",
    "trappist1_kepler = 57000"
   ]
  },
  {
   "cell_type": "code",
   "execution_count": 22,
   "metadata": {
    "collapsed": false
   },
   "outputs": [
    {
     "name": "stdout",
     "output_type": "stream",
     "text": [
      "Ground-based counts at Apache Point Observatory:\n",
      "\t HAT-P-11 in r-band: 34 million\n",
      "\t TRAPPIST-1 in z-band: 203 thousand\n",
      "Space-based count rates with Kepler:\n",
      "\t HAT-P-11: 28.0 million\n",
      "\t TRAPPIST-1 57.0 thousand\n"
     ]
    }
   ],
   "source": [
    "print('Ground-based counts at Apache Point Observatory:')\n",
    "print('\\t HAT-P-11 in r-band:', int(hatp11_r_apo / 1e6), 'million')\n",
    "print('\\t TRAPPIST-1 in z-band:', int(trappist1_z_apo / 1e3), 'thousand')\n",
    "print('Space-based count rates with Kepler:')\n",
    "print('\\t HAT-P-11:', round(hatp11_kepler / 1e6, 1), 'million')\n",
    "print('\\t TRAPPIST-1', round(trappist1_kepler / 1e3, 1), 'thousand')"
   ]
  },
  {
   "cell_type": "markdown",
   "metadata": {},
   "source": [
    "Comparing our `synphot` values to the observed values on a 1-1 line:"
   ]
  },
  {
   "cell_type": "code",
   "execution_count": 23,
   "metadata": {
    "collapsed": false
   },
   "outputs": [
    {
     "data": {
      "text/plain": [
       "<matplotlib.legend.Legend at 0x12dec69e8>"
      ]
     },
     "execution_count": 23,
     "metadata": {},
     "output_type": "execute_result"
    },
    {
     "data": {
      "image/png": "[encoded data removed]",
      "text/plain": [
       "<Figure size 648x648 with 1 Axes>"
      ]
     },
     "metadata": {},
     "output_type": "display_data"
    }
   ],
   "source": [
    "fig = plt.figure(figsize=(9, 9))\n",
    "\n",
    "plt.scatter(hatp11_r_apo, counts_hatp11,\n",
    "            color='b', s=100, label=\"HAT-P-11, ground\")\n",
    "plt.scatter(hatp11_kepler, stars['hatp11']['counts'],\n",
    "            color='b', marker= '^', s=100, label=\"HAT-P-11, space\")\n",
    "plt.scatter(trappist1_z_apo, counts_trappist1,\n",
    "            color='r', s=100, label='TRAPPIST-1, ground')\n",
    "plt.scatter(trappist1_kepler, stars['trappist1']['counts'],\n",
    "            color='r', marker= '^', s=100, label='TRAPPIST-1, space')\n",
    "\n",
    "# one-to-one line\n",
    "countrange = np.linspace(1e4, 1e8, 20)\n",
    "plt.plot(countrange, countrange, color='black')\n",
    "\n",
    "plt.xscale('log')\n",
    "plt.yscale('log')\n",
    "\n",
    "plt.ylabel('synphot counts', size='14')\n",
    "plt.xlabel('observed counts', size='14')\n",
    "\n",
    "plt.legend()"
   ]
  },
  {
   "cell_type": "code",
   "execution_count": null,
   "metadata": {
    "collapsed": true
   },
   "outputs": [],
   "source": []
  }
 ],
 "metadata": {
  "anaconda-cloud": {},
  "kernelspec": {
   "display_name": "Python [default]",
   "language": "python",
   "name": "python3"
  },
  "language_info": {
   "codemirror_mode": {
    "name": "ipython",
    "version": 3
   },
   "file_extension": ".py",
   "mimetype": "text/x-python",
   "name": "python",
   "nbconvert_exporter": "python",
   "pygments_lexer": "ipython3",
   "version": "3.5.2"
  }
 },
 "nbformat": 4,
 "nbformat_minor": 1
}
