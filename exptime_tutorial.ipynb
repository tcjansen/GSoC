{
 "cells": [
  {
   "cell_type": "markdown",
   "metadata": {},
   "source": [
    "# Predicting the exposure time needed to obtain a desired signal to noise ratio with <tt>astroplan</tt>"
   ]
  },
  {
   "cell_type": "markdown",
   "metadata": {},
   "source": [
    "## Authors\n",
    "Tiffany Jansen, Brett Morris, Pey Lian Lim, & Erik Tollerud"
   ]
  },
  {
   "cell_type": "markdown",
   "metadata": {},
   "source": [
    "## Objectives\n",
    "<ul>\n",
    "    <li>Use <tt>astroquery.Gaia</tt> and <tt>astroplan.FixedTarget</tt> to obtain information about the target</li>\n",
    "    <li>Obtain a model spectrum by querying from PHOENIX</li>\n",
    "    <li>Set the location of the observer with <tt>astroplan.observer</tt></li>\n",
    "    <li>Set up the telescope model with <tt>astroplan.telescope</tt></li>\n",
    "    <li>Calculate the exposure time with <tt>astroplan</tt>'s <tt>exptime.exptime_from_ccd_snr</tt></li>\n",
    "    <li>Add atmospheric transmission with <tt>astroplan.skymodel</tt></li>\n",
    "</ul>"
   ]
  },
  {
   "cell_type": "markdown",
   "metadata": {},
   "source": [
    "## Keywords\n",
    "astroplan, synphot, synthetic photometry, astropy, astroquery, astronomy"
   ]
  },
  {
   "cell_type": "markdown",
   "metadata": {},
   "source": [
    "## Summary\n",
    "<a href=\"https://astroplan.readthedocs.io/en/latest/\" target=\"_blank\"><tt>astroplan</tt></a> is an astropy-affiliated package for helping astronomers plan and schedule observations. In this tutorial we will show how to predict the exposure time needed to obtain a given signal to noise ratio for a target star. Specifically, we will:\n",
    "<ol>\n",
    "<li><a href=\"#query_properties\">Query the properties of a target star</a></li>\n",
    "<li><a href=\"#phoenix\">Download model spectra from PHOENIX</a></li>\n",
    "<li><a href=\"#observer\">Set the location of the observer</a></li>\n",
    "<li><a href=\"#telescope\">Set up the telescope model</a></li>\n",
    "<li><a href=\"#exptime\">Calculate the exposure time</a></li>\n",
    "<li><a href=\"#skymodel\">(optional) Add an atmospheric transmission model</a></li>\n",
    "</ol>"
   ]
  },
  {
   "cell_type": "code",
   "execution_count": 25,
   "metadata": {},
   "outputs": [],
   "source": [
    "%matplotlib inline\n",
    "\n",
    "import astropy.units as u\n",
    "\n",
    "import warnings\n",
    "import numpy as np\n",
    "import matplotlib.pyplot as plt\n",
    "\n",
    "# warnings.filterwarnings(\"ignore\", module='astropy.io.votable.tree')\n",
    "warnings.simplefilter(\"ignore\")"
   ]
  },
  {
   "cell_type": "markdown",
   "metadata": {},
   "source": [
    "<a id='query_properties'></a>\n",
    "## 1. Query the properties of a target star"
   ]
  },
  {
   "cell_type": "markdown",
   "metadata": {},
   "source": [
    "In this example we will use HAT-P-11 as the target. We will model the spectrum of HAT-P-11 with a PHOENIX stellar atmosphere model, which we can obtain by specifying a stellar temperature and querying from the Gottingen Spectral Library."
   ]
  },
  {
   "cell_type": "markdown",
   "metadata": {},
   "source": [
    "To get the stellar temperature, we can use <tt>FixedTarget.from_name</tt> to get the coordinates of HAT-P-11, then give these coordinates to <tt>astroquery</tt>'s Gaia query:"
   ]
  },
  {
   "cell_type": "code",
   "execution_count": 26,
   "metadata": {},
   "outputs": [
    {
     "name": "stdout",
     "output_type": "stream",
     "text": [
      "Query finished.\n"
     ]
    }
   ],
   "source": [
    "from astroplan import FixedTarget\n",
    "from astroquery.gaia import Gaia\n",
    "\n",
    "hatp11 = FixedTarget.from_name('Hat-p-11')\n",
    "\n",
    "# width / height of search:\n",
    "width = u.Quantity(1, u.arcmin)\n",
    "height = u.Quantity(1, u.arcmin)\n",
    "search_results = Gaia.query_object_async(coordinate=hatp11.coord, width=width, height=height)\n",
    "\n",
    "# the queried star should be the one nearest to the given coordinates\n",
    "search_results.add_index('dist', unique=True)\n",
    "hatp11_info = search_results.loc['dist', min(search_results['dist'])]\n",
    "\n",
    "T_eff = round(hatp11_info['teff_val'], -2)  # round to nearest 100 K"
   ]
  },
  {
   "cell_type": "markdown",
   "metadata": {},
   "source": [
    "Since the spectrum is defined at the source, we have to scale for the distance to the target to get the flux at the telescope:"
   ]
  },
  {
   "cell_type": "code",
   "execution_count": 27,
   "metadata": {},
   "outputs": [],
   "source": [
    "stellar_radius = hatp11_info['radius_val'] * u.R_sun\n",
    "parallax = hatp11_info['parallax'] * u.mas\n",
    "# parallax is given by Gaia in milliarcseconds, so convert to parsec:\n",
    "distance = parallax.to(u.parsec, equivalencies=u.parallax())\n",
    "\n",
    "distance_scale = float(stellar_radius / distance) ** 2 / np.pi"
   ]
  },
  {
   "cell_type": "markdown",
   "metadata": {},
   "source": [
    "<a id=\"phoenix\"></a>\n",
    "## 2. Obtain a model spectrum from PHOENIX"
   ]
  },
  {
   "cell_type": "markdown",
   "metadata": {},
   "source": [
    "Now use <tt>astropy.io.fits.getdata</tt> to query from PHOENIX to get the spectrum:"
   ]
  },
  {
   "cell_type": "code",
   "execution_count": 28,
   "metadata": {},
   "outputs": [],
   "source": [
    "from astropy.io import fits\n",
    "\n",
    "flux_url = ('ftp://phoenix.astro.physik.uni-goettingen.de/v2.0/HiResFITS/'\n",
    "       'PHOENIX-ACES-AGSS-COND-2011/Z-0.0/lte{T_eff:05d}-{log_g:1.2f}-0.0.PHOENIX-'\n",
    "       'ACES-AGSS-COND-2011-HiRes.fits').format(T_eff=int(T_eff), log_g=4.5)\n",
    "wavelength_url = ('ftp://phoenix.astro.physik.uni-goettingen.de/v2.0/HiResFITS/'\n",
    "                  'WAVE_PHOENIX-ACES-AGSS-COND-2011.fits')\n",
    "\n",
    "flux_of_target = fits.getdata(flux_url) * distance_scale\n",
    "waveset_of_target = fits.getdata(wavelength_url)"
   ]
  },
  {
   "cell_type": "markdown",
   "metadata": {},
   "source": [
    "It is good practice (and for some packages, essential) to attach units to quantities so that you can be sure the final results are scaled correctly. The units we use here are specified by the PHOENIX models."
   ]
  },
  {
   "cell_type": "code",
   "execution_count": 29,
   "metadata": {},
   "outputs": [
    {
     "data": {
      "text/plain": [
       "[<matplotlib.lines.Line2D at 0xb17376320>]"
      ]
     },
     "execution_count": 29,
     "metadata": {},
     "output_type": "execute_result"
    },
    {
     "data": {
      "image/png": "[encoded data removed]",
      "text/plain": [
       "<Figure size 432x288 with 1 Axes>"
      ]
     },
     "metadata": {
      "needs_background": "light"
     },
     "output_type": "display_data"
    }
   ],
   "source": [
    "flux_of_target = flux_of_target * (u.erg / u.s / u.cm ** 2 / u.cm) \n",
    "waveset_of_target = waveset_of_target * u.Angstrom\n",
    "\n",
    "plt.plot(waveset_of_target, flux_of_target)"
   ]
  },
  {
   "cell_type": "markdown",
   "metadata": {},
   "source": [
    "<a id=\"observer\"></a>\n",
    "## 3. Set the location of the observer"
   ]
  },
  {
   "cell_type": "markdown",
   "metadata": {},
   "source": [
    "Create an </tt>astroplan<tt> Observer object via the <tt>at_site</tt> class method to set the location of the observing site:"
   ]
  },
  {
   "cell_type": "code",
   "execution_count": 30,
   "metadata": {},
   "outputs": [],
   "source": [
    "from astroplan import Observer\n",
    "\n",
    "observer = Observer.at_site('apo')"
   ]
  },
  {
   "cell_type": "markdown",
   "metadata": {},
   "source": [
    "# Getting an exposure time"
   ]
  },
  {
   "cell_type": "markdown",
   "metadata": {},
   "source": [
    "If you want to get an idea of how long each exposure should be to achieve a desired signal to noise ratio, you can use <tt>astroplan</tt>'s <tt>exptime_from_ccd_snr</tt> function."
   ]
  },
  {
   "cell_type": "markdown",
   "metadata": {},
   "source": [
    "<a id=\"telescope\"></a>\n",
    "## 4. Set up the telescope model"
   ]
  },
  {
   "cell_type": "markdown",
   "metadata": {},
   "source": [
    "Create a <tt>Telescope</tt> object, which models the telescope you wish to use, and input:\n",
    "<ul>\n",
    "    <li>the diameter of the telescope aperture (we use the 3.5m telescope at APO)</li>\n",
    "    <li>a model of your bandpass (we use <tt>synphot</tt> to generate a bandpass downloaded from SVO)</li>\n",
    "    <li> the gain of the instrument, which is usually found on the observatory's website</li>\n",
    "</ul>\n",
    "You can also give it a CCD response function, either from your own model or the default model given by <tt>astroplan.telescope</tt> as we've done here."
   ]
  },
  {
   "cell_type": "code",
   "execution_count": 31,
   "metadata": {},
   "outputs": [
    {
     "data": {
      "image/png": "[encoded data removed]",
      "text/plain": [
       "<Figure size 432x288 with 1 Axes>"
      ]
     },
     "metadata": {
      "needs_background": "light"
     },
     "output_type": "display_data"
    }
   ],
   "source": [
    "from synphot.spectrum import SpectralElement\n",
    "from astropy.utils.data import download_file\n",
    "from astroplan import Telescope\n",
    "\n",
    "diameter = 3.5 * u.m\n",
    "gain = 1.9 * (u.ct / u.adu)\n",
    "\n",
    "# model the bandpass:\n",
    "svo_link = ('http://svo2.cab.inta-csic.es/' +\n",
    "           'theory/fps3/fps.php?ID=')\n",
    "filt_path = download_file(svo_link + 'SLOAN/SDSS.rprime_filter')\n",
    "bandpass = SpectralElement.from_file(filt_path)\n",
    "\n",
    "bandpass.plot()"
   ]
  },
  {
   "cell_type": "code",
   "execution_count": 32,
   "metadata": {},
   "outputs": [],
   "source": [
    "telescope = Telescope(diameter, bandpass, gain, ccd_response='default')"
   ]
  },
  {
   "cell_type": "code",
   "execution_count": 33,
   "metadata": {},
   "outputs": [
    {
     "data": {
      "text/plain": [
       "Text(0.5, 0, 'nm')"
      ]
     },
     "execution_count": 33,
     "metadata": {},
     "output_type": "execute_result"
    },
    {
     "data": {
      "image/png": "[encoded data removed]",
      "text/plain": [
       "<Figure size 432x288 with 1 Axes>"
      ]
     },
     "metadata": {
      "needs_background": "light"
     },
     "output_type": "display_data"
    }
   ],
   "source": [
    "ccd_response_wls, ccd_response = telescope.ccd_response\n",
    "plt.plot(ccd_response_wls, ccd_response)\n",
    "plt.xlabel(ccd_response_wls.unit)"
   ]
  },
  {
   "cell_type": "markdown",
   "metadata": {},
   "source": [
    "<a id=\"exptime\"></a>\n",
    "## 5. Calculate the exposure time"
   ]
  },
  {
   "cell_type": "markdown",
   "metadata": {},
   "source": [
    "Then specify the signal to noise ratio you wish to reach and call <tt>astroplan</tt>'s <tt>exptime_from_ccd_snr</tt> function:"
   ]
  },
  {
   "cell_type": "code",
   "execution_count": 34,
   "metadata": {},
   "outputs": [
    {
     "data": {
      "text/latex": [
       "$0.0022556432 \\; \\mathrm{s}$"
      ],
      "text/plain": [
       "<Quantity 0.00225564 s>"
      ]
     },
     "execution_count": 34,
     "metadata": {},
     "output_type": "execute_result"
    }
   ],
   "source": [
    "from astroplan import exptime_from_ccd_snr\n",
    "\n",
    "snr = 100\n",
    "exptime_from_ccd_snr(snr, waveset_of_target, flux_of_target, observer, telescope)"
   ]
  },
  {
   "cell_type": "markdown",
   "metadata": {},
   "source": [
    "<a id=\"skymodel\"></a>\n",
    "## 6. (optional) Add an atmospheric transmission model"
   ]
  },
  {
   "cell_type": "markdown",
   "metadata": {},
   "source": [
    "Say you want to add the effect of the atmosphere to make the exposure time prediction more realistic. You can pass your own sky model as an array into your <tt>observer</tt> object, or you can query from the SKYCALC Sky Model Calculator with <tt>astroplan</tt>'s <tt>skycalc.skymodel()</tt>:"
   ]
  },
  {
   "cell_type": "code",
   "execution_count": 35,
   "metadata": {},
   "outputs": [],
   "source": [
    "from astroplan import skymodel\n",
    "\n",
    "skymodel_1pt5airmass = skymodel(airmass=1.5)"
   ]
  },
  {
   "cell_type": "markdown",
   "metadata": {},
   "source": [
    "<tt>skymodel</tt> has many different sky parameters that can be set, including the precipitable water vapor, whether or not to include the moon, and more. For options and defaults, see the documentation on <tt>astroplan.skycalc.skymodel</tt>"
   ]
  },
  {
   "cell_type": "markdown",
   "metadata": {},
   "source": [
    "The <tt>skymodel</tt> attribute must then be set for the <tt>observer</tt> object (alternatively, you could have passed it in as an optional argument when initiating the observer object):"
   ]
  },
  {
   "cell_type": "code",
   "execution_count": 36,
   "metadata": {},
   "outputs": [
    {
     "data": {
      "text/plain": [
       "[<matplotlib.lines.Line2D at 0xb222087f0>]"
      ]
     },
     "execution_count": 36,
     "metadata": {},
     "output_type": "execute_result"
    },
    {
     "data": {
      "image/png": "[encoded data removed]",
      "text/plain": [
       "<Figure size 432x288 with 1 Axes>"
      ]
     },
     "metadata": {
      "needs_background": "light"
     },
     "output_type": "display_data"
    }
   ],
   "source": [
    "observer.skymodel = skymodel_1pt5airmass\n",
    "# alternatively: >>> observer = Observer.at_site('apo', skymodel=skymodel_1pt5airmass)\n",
    "skymodel_waveset, skymodel_flux = observer.skymodel\n",
    "plt.plot(skymodel_waveset, skymodel_flux)"
   ]
  },
  {
   "cell_type": "code",
   "execution_count": 24,
   "metadata": {},
   "outputs": [
    {
     "data": {
      "text/latex": [
       "$0.0026073144 \\; \\mathrm{s}$"
      ],
      "text/plain": [
       "<Quantity 0.00260731 s>"
      ]
     },
     "execution_count": 24,
     "metadata": {},
     "output_type": "execute_result"
    }
   ],
   "source": [
    "exptime_from_ccd_snr(snr, waveset_of_target, flux_of_target, observer, telescope)"
   ]
  }
 ],
 "metadata": {
  "kernelspec": {
   "display_name": "Python 3",
   "language": "python",
   "name": "python3"
  },
  "language_info": {
   "codemirror_mode": {
    "name": "ipython",
    "version": 3
   },
   "file_extension": ".py",
   "mimetype": "text/x-python",
   "name": "python",
   "nbconvert_exporter": "python",
   "pygments_lexer": "ipython3",
   "version": "3.7.1"
  }
 },
 "nbformat": 4,
 "nbformat_minor": 2
}
